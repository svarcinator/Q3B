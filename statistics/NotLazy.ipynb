{
 "cells": [
  {
   "cell_type": "code",
   "execution_count": 1,
   "id": "0510fa1e",
   "metadata": {},
   "outputs": [],
   "source": [
    "import pandas as pd\n",
    "import os\n",
    "import re\n",
    "import sys"
   ]
  },
  {
   "cell_type": "code",
   "execution_count": 2,
   "id": "90b8212f",
   "metadata": {},
   "outputs": [],
   "source": [
    "sys.path.append('..')\n",
    "from mylib import mylibrary as ml"
   ]
  },
  {
   "cell_type": "code",
   "execution_count": null,
   "id": "127646d5",
   "metadata": {},
   "outputs": [],
   "source": []
  },
  {
   "cell_type": "markdown",
   "id": "3291dee2",
   "metadata": {},
   "source": [
    "# Original data"
   ]
  },
  {
   "cell_type": "code",
   "execution_count": 3,
   "id": "165506bf",
   "metadata": {},
   "outputs": [],
   "source": [
    "orig_dir = ! pwd\n",
    "orig_dir= orig_dir[0] + \"/../initial2\""
   ]
  },
  {
   "cell_type": "markdown",
   "id": "20ca31a0",
   "metadata": {},
   "source": [
    "# NotLazy data"
   ]
  },
  {
   "cell_type": "code",
   "execution_count": 5,
   "id": "6cf204c5",
   "metadata": {},
   "outputs": [
    {
     "data": {
      "text/plain": [
       "['/var/tmp/vcloud-q3b/statistics/not_lazy_no_mul_cache3']"
      ]
     },
     "execution_count": 5,
     "metadata": {},
     "output_type": "execute_result"
    }
   ],
   "source": [
    "current_dir = ! pwd\n",
    "current_dir"
   ]
  },
  {
   "cell_type": "code",
   "execution_count": 7,
   "id": "ed94398a",
   "metadata": {},
   "outputs": [],
   "source": [
    "sumcompare, timecompare = ml.copmare_dfs(orig_dir, \"orig\", current_dir[0], \"not lazy cached\")"
   ]
  },
  {
   "cell_type": "code",
   "execution_count": 8,
   "id": "aa2afb3c",
   "metadata": {},
   "outputs": [
    {
     "data": {
      "text/html": [
       "<style type=\"text/css\">\n",
       "#T_e8183_row0_col0, #T_e8183_row0_col1, #T_e8183_row0_col2, #T_e8183_row0_col3, #T_e8183_row0_col4, #T_e8183_row0_col5, #T_e8183_row0_col6, #T_e8183_row0_col7, #T_e8183_row0_col8, #T_e8183_row0_col9, #T_e8183_row1_col2, #T_e8183_row1_col3, #T_e8183_row1_col4, #T_e8183_row1_col5, #T_e8183_row2_col0, #T_e8183_row2_col1, #T_e8183_row2_col4, #T_e8183_row2_col5, #T_e8183_row2_col6, #T_e8183_row2_col7, #T_e8183_row3_col4, #T_e8183_row3_col5, #T_e8183_row4_col4, #T_e8183_row4_col5, #T_e8183_row5_col0, #T_e8183_row5_col1, #T_e8183_row5_col2, #T_e8183_row5_col3, #T_e8183_row5_col4, #T_e8183_row5_col5, #T_e8183_row5_col6, #T_e8183_row5_col7, #T_e8183_row5_col8, #T_e8183_row5_col9, #T_e8183_row6_col0, #T_e8183_row6_col1, #T_e8183_row6_col2, #T_e8183_row6_col3, #T_e8183_row6_col4, #T_e8183_row6_col5, #T_e8183_row6_col6, #T_e8183_row6_col7 {\n",
       "  background-color: white;\n",
       "}\n",
       "#T_e8183_row1_col0, #T_e8183_row1_col1, #T_e8183_row1_col6, #T_e8183_row1_col7, #T_e8183_row3_col0, #T_e8183_row3_col1, #T_e8183_row3_col6, #T_e8183_row3_col7, #T_e8183_row4_col2, #T_e8183_row4_col3, #T_e8183_row4_col8, #T_e8183_row4_col9, #T_e8183_row6_col8, #T_e8183_row6_col9 {\n",
       "  background-color: lightblue;\n",
       "}\n",
       "#T_e8183_row1_col8, #T_e8183_row1_col9, #T_e8183_row2_col2, #T_e8183_row2_col3, #T_e8183_row2_col8, #T_e8183_row2_col9, #T_e8183_row3_col2, #T_e8183_row3_col3, #T_e8183_row3_col8, #T_e8183_row3_col9, #T_e8183_row4_col0, #T_e8183_row4_col1, #T_e8183_row4_col6, #T_e8183_row4_col7 {\n",
       "  background-color: pink;\n",
       "}\n",
       "</style>\n",
       "<table id=\"T_e8183\">\n",
       "  <thead>\n",
       "    <tr>\n",
       "      <th class=\"blank level0\" >&nbsp;</th>\n",
       "      <th id=\"T_e8183_level0_col0\" class=\"col_heading level0 col0\" colspan=\"2\">2017-Preiner-keymaera</th>\n",
       "      <th id=\"T_e8183_level0_col2\" class=\"col_heading level0 col2\" colspan=\"2\">2017-Preiner-psyco</th>\n",
       "      <th id=\"T_e8183_level0_col4\" class=\"col_heading level0 col4\" colspan=\"2\">2018-Preiner-cav18</th>\n",
       "      <th id=\"T_e8183_level0_col6\" class=\"col_heading level0 col6\" colspan=\"2\">20230321-UltimateAutomizerSvcomp2023</th>\n",
       "      <th id=\"T_e8183_level0_col8\" class=\"col_heading level0 col8\" colspan=\"2\">wintersteiger</th>\n",
       "    </tr>\n",
       "    <tr>\n",
       "      <th class=\"blank level1\" >&nbsp;</th>\n",
       "      <th id=\"T_e8183_level1_col0\" class=\"col_heading level1 col0\" >orig</th>\n",
       "      <th id=\"T_e8183_level1_col1\" class=\"col_heading level1 col1\" >not lazy cached</th>\n",
       "      <th id=\"T_e8183_level1_col2\" class=\"col_heading level1 col2\" >orig</th>\n",
       "      <th id=\"T_e8183_level1_col3\" class=\"col_heading level1 col3\" >not lazy cached</th>\n",
       "      <th id=\"T_e8183_level1_col4\" class=\"col_heading level1 col4\" >orig</th>\n",
       "      <th id=\"T_e8183_level1_col5\" class=\"col_heading level1 col5\" >not lazy cached</th>\n",
       "      <th id=\"T_e8183_level1_col6\" class=\"col_heading level1 col6\" >orig</th>\n",
       "      <th id=\"T_e8183_level1_col7\" class=\"col_heading level1 col7\" >not lazy cached</th>\n",
       "      <th id=\"T_e8183_level1_col8\" class=\"col_heading level1 col8\" >orig</th>\n",
       "      <th id=\"T_e8183_level1_col9\" class=\"col_heading level1 col9\" >not lazy cached</th>\n",
       "    </tr>\n",
       "  </thead>\n",
       "  <tbody>\n",
       "    <tr>\n",
       "      <th id=\"T_e8183_level0_row0\" class=\"row_heading level0 row0\" >total</th>\n",
       "      <td id=\"T_e8183_row0_col0\" class=\"data row0 col0\" >4035</td>\n",
       "      <td id=\"T_e8183_row0_col1\" class=\"data row0 col1\" >4035</td>\n",
       "      <td id=\"T_e8183_row0_col2\" class=\"data row0 col2\" >194</td>\n",
       "      <td id=\"T_e8183_row0_col3\" class=\"data row0 col3\" >194</td>\n",
       "      <td id=\"T_e8183_row0_col4\" class=\"data row0 col4\" >600</td>\n",
       "      <td id=\"T_e8183_row0_col5\" class=\"data row0 col5\" >600</td>\n",
       "      <td id=\"T_e8183_row0_col6\" class=\"data row0 col6\" >140</td>\n",
       "      <td id=\"T_e8183_row0_col7\" class=\"data row0 col7\" >140</td>\n",
       "      <td id=\"T_e8183_row0_col8\" class=\"data row0 col8\" >181</td>\n",
       "      <td id=\"T_e8183_row0_col9\" class=\"data row0 col9\" >181</td>\n",
       "    </tr>\n",
       "    <tr>\n",
       "      <th id=\"T_e8183_level0_row1\" class=\"row_heading level0 row1\" >unsat</th>\n",
       "      <td id=\"T_e8183_row1_col0\" class=\"data row1 col0\" >3904</td>\n",
       "      <td id=\"T_e8183_row1_col1\" class=\"data row1 col1\" >3906</td>\n",
       "      <td id=\"T_e8183_row1_col2\" class=\"data row1 col2\" >48</td>\n",
       "      <td id=\"T_e8183_row1_col3\" class=\"data row1 col3\" >48</td>\n",
       "      <td id=\"T_e8183_row1_col4\" class=\"data row1 col4\" >563</td>\n",
       "      <td id=\"T_e8183_row1_col5\" class=\"data row1 col5\" >563</td>\n",
       "      <td id=\"T_e8183_row1_col6\" class=\"data row1 col6\" >94</td>\n",
       "      <td id=\"T_e8183_row1_col7\" class=\"data row1 col7\" >122</td>\n",
       "      <td id=\"T_e8183_row1_col8\" class=\"data row1 col8\" >91</td>\n",
       "      <td id=\"T_e8183_row1_col9\" class=\"data row1 col9\" >90</td>\n",
       "    </tr>\n",
       "    <tr>\n",
       "      <th id=\"T_e8183_level0_row2\" class=\"row_heading level0 row2\" >sat</th>\n",
       "      <td id=\"T_e8183_row2_col0\" class=\"data row2 col0\" >104</td>\n",
       "      <td id=\"T_e8183_row2_col1\" class=\"data row2 col1\" >104</td>\n",
       "      <td id=\"T_e8183_row2_col2\" class=\"data row2 col2\" >104</td>\n",
       "      <td id=\"T_e8183_row2_col3\" class=\"data row2 col3\" >96</td>\n",
       "      <td id=\"T_e8183_row2_col4\" class=\"data row2 col4\" >0</td>\n",
       "      <td id=\"T_e8183_row2_col5\" class=\"data row2 col5\" >0</td>\n",
       "      <td id=\"T_e8183_row2_col6\" class=\"data row2 col6\" >13</td>\n",
       "      <td id=\"T_e8183_row2_col7\" class=\"data row2 col7\" >13</td>\n",
       "      <td id=\"T_e8183_row2_col8\" class=\"data row2 col8\" >82</td>\n",
       "      <td id=\"T_e8183_row2_col9\" class=\"data row2 col9\" >78</td>\n",
       "    </tr>\n",
       "    <tr>\n",
       "      <th id=\"T_e8183_level0_row3\" class=\"row_heading level0 row3\" >solved</th>\n",
       "      <td id=\"T_e8183_row3_col0\" class=\"data row3 col0\" >4008</td>\n",
       "      <td id=\"T_e8183_row3_col1\" class=\"data row3 col1\" >4010</td>\n",
       "      <td id=\"T_e8183_row3_col2\" class=\"data row3 col2\" >152</td>\n",
       "      <td id=\"T_e8183_row3_col3\" class=\"data row3 col3\" >144</td>\n",
       "      <td id=\"T_e8183_row3_col4\" class=\"data row3 col4\" >563</td>\n",
       "      <td id=\"T_e8183_row3_col5\" class=\"data row3 col5\" >563</td>\n",
       "      <td id=\"T_e8183_row3_col6\" class=\"data row3 col6\" >107</td>\n",
       "      <td id=\"T_e8183_row3_col7\" class=\"data row3 col7\" >135</td>\n",
       "      <td id=\"T_e8183_row3_col8\" class=\"data row3 col8\" >173</td>\n",
       "      <td id=\"T_e8183_row3_col9\" class=\"data row3 col9\" >168</td>\n",
       "    </tr>\n",
       "    <tr>\n",
       "      <th id=\"T_e8183_level0_row4\" class=\"row_heading level0 row4\" >timeout</th>\n",
       "      <td id=\"T_e8183_row4_col0\" class=\"data row4 col0\" >27</td>\n",
       "      <td id=\"T_e8183_row4_col1\" class=\"data row4 col1\" >25</td>\n",
       "      <td id=\"T_e8183_row4_col2\" class=\"data row4 col2\" >42</td>\n",
       "      <td id=\"T_e8183_row4_col3\" class=\"data row4 col3\" >50</td>\n",
       "      <td id=\"T_e8183_row4_col4\" class=\"data row4 col4\" >37</td>\n",
       "      <td id=\"T_e8183_row4_col5\" class=\"data row4 col5\" >37</td>\n",
       "      <td id=\"T_e8183_row4_col6\" class=\"data row4 col6\" >33</td>\n",
       "      <td id=\"T_e8183_row4_col7\" class=\"data row4 col7\" >5</td>\n",
       "      <td id=\"T_e8183_row4_col8\" class=\"data row4 col8\" >7</td>\n",
       "      <td id=\"T_e8183_row4_col9\" class=\"data row4 col9\" >9</td>\n",
       "    </tr>\n",
       "    <tr>\n",
       "      <th id=\"T_e8183_level0_row5\" class=\"row_heading level0 row5\" >segfault</th>\n",
       "      <td id=\"T_e8183_row5_col0\" class=\"data row5 col0\" >0</td>\n",
       "      <td id=\"T_e8183_row5_col1\" class=\"data row5 col1\" >0</td>\n",
       "      <td id=\"T_e8183_row5_col2\" class=\"data row5 col2\" >0</td>\n",
       "      <td id=\"T_e8183_row5_col3\" class=\"data row5 col3\" >0</td>\n",
       "      <td id=\"T_e8183_row5_col4\" class=\"data row5 col4\" >0</td>\n",
       "      <td id=\"T_e8183_row5_col5\" class=\"data row5 col5\" >0</td>\n",
       "      <td id=\"T_e8183_row5_col6\" class=\"data row5 col6\" >0</td>\n",
       "      <td id=\"T_e8183_row5_col7\" class=\"data row5 col7\" >0</td>\n",
       "      <td id=\"T_e8183_row5_col8\" class=\"data row5 col8\" >0</td>\n",
       "      <td id=\"T_e8183_row5_col9\" class=\"data row5 col9\" >0</td>\n",
       "    </tr>\n",
       "    <tr>\n",
       "      <th id=\"T_e8183_level0_row6\" class=\"row_heading level0 row6\" >other</th>\n",
       "      <td id=\"T_e8183_row6_col0\" class=\"data row6 col0\" >0</td>\n",
       "      <td id=\"T_e8183_row6_col1\" class=\"data row6 col1\" >0</td>\n",
       "      <td id=\"T_e8183_row6_col2\" class=\"data row6 col2\" >0</td>\n",
       "      <td id=\"T_e8183_row6_col3\" class=\"data row6 col3\" >0</td>\n",
       "      <td id=\"T_e8183_row6_col4\" class=\"data row6 col4\" >0</td>\n",
       "      <td id=\"T_e8183_row6_col5\" class=\"data row6 col5\" >0</td>\n",
       "      <td id=\"T_e8183_row6_col6\" class=\"data row6 col6\" >0</td>\n",
       "      <td id=\"T_e8183_row6_col7\" class=\"data row6 col7\" >0</td>\n",
       "      <td id=\"T_e8183_row6_col8\" class=\"data row6 col8\" >1</td>\n",
       "      <td id=\"T_e8183_row6_col9\" class=\"data row6 col9\" >4</td>\n",
       "    </tr>\n",
       "  </tbody>\n",
       "</table>\n"
      ],
      "text/plain": [
       "<pandas.io.formats.style.Styler at 0x7f4622dd9c30>"
      ]
     },
     "execution_count": 8,
     "metadata": {},
     "output_type": "execute_result"
    }
   ],
   "source": [
    "sumcompare"
   ]
  },
  {
   "cell_type": "code",
   "execution_count": 9,
   "id": "364a41b1",
   "metadata": {},
   "outputs": [
    {
     "data": {
      "text/html": [
       "<style type=\"text/css\">\n",
       "#T_329ae_row0_col0, #T_329ae_row0_col1, #T_329ae_row0_col6, #T_329ae_row0_col7, #T_329ae_row1_col2, #T_329ae_row1_col3, #T_329ae_row1_col8, #T_329ae_row1_col9, #T_329ae_row2_col2, #T_329ae_row2_col3, #T_329ae_row3_col0, #T_329ae_row3_col1, #T_329ae_row3_col4, #T_329ae_row3_col5, #T_329ae_row3_col6, #T_329ae_row3_col7, #T_329ae_row5_col8, #T_329ae_row5_col9, #T_329ae_row6_col0, #T_329ae_row6_col1, #T_329ae_row6_col6, #T_329ae_row6_col7, #T_329ae_row7_col2, #T_329ae_row7_col3, #T_329ae_row7_col8, #T_329ae_row7_col9, #T_329ae_row8_col2, #T_329ae_row8_col3, #T_329ae_row9_col0, #T_329ae_row9_col1, #T_329ae_row9_col4, #T_329ae_row9_col5, #T_329ae_row11_col8, #T_329ae_row11_col9 {\n",
       "  background-color: lightblue;\n",
       "}\n",
       "#T_329ae_row0_col2, #T_329ae_row0_col3, #T_329ae_row0_col4, #T_329ae_row0_col5, #T_329ae_row0_col8, #T_329ae_row0_col9, #T_329ae_row1_col0, #T_329ae_row1_col1, #T_329ae_row1_col6, #T_329ae_row1_col7, #T_329ae_row2_col0, #T_329ae_row2_col1, #T_329ae_row2_col4, #T_329ae_row2_col5, #T_329ae_row2_col6, #T_329ae_row2_col7, #T_329ae_row2_col8, #T_329ae_row2_col9, #T_329ae_row3_col2, #T_329ae_row3_col3, #T_329ae_row3_col8, #T_329ae_row3_col9, #T_329ae_row6_col2, #T_329ae_row6_col3, #T_329ae_row6_col4, #T_329ae_row6_col5, #T_329ae_row6_col8, #T_329ae_row6_col9, #T_329ae_row7_col0, #T_329ae_row7_col1, #T_329ae_row7_col6, #T_329ae_row7_col7, #T_329ae_row8_col0, #T_329ae_row8_col1, #T_329ae_row8_col4, #T_329ae_row8_col5, #T_329ae_row8_col6, #T_329ae_row8_col7, #T_329ae_row8_col8, #T_329ae_row8_col9, #T_329ae_row9_col2, #T_329ae_row9_col3, #T_329ae_row9_col6, #T_329ae_row9_col7, #T_329ae_row9_col8, #T_329ae_row9_col9 {\n",
       "  background-color: pink;\n",
       "}\n",
       "#T_329ae_row1_col4, #T_329ae_row1_col5, #T_329ae_row4_col0, #T_329ae_row4_col1, #T_329ae_row4_col2, #T_329ae_row4_col3, #T_329ae_row4_col4, #T_329ae_row4_col5, #T_329ae_row4_col6, #T_329ae_row4_col7, #T_329ae_row4_col8, #T_329ae_row4_col9, #T_329ae_row5_col0, #T_329ae_row5_col1, #T_329ae_row5_col2, #T_329ae_row5_col3, #T_329ae_row5_col4, #T_329ae_row5_col5, #T_329ae_row5_col6, #T_329ae_row5_col7, #T_329ae_row7_col4, #T_329ae_row7_col5, #T_329ae_row10_col0, #T_329ae_row10_col1, #T_329ae_row10_col2, #T_329ae_row10_col3, #T_329ae_row10_col4, #T_329ae_row10_col5, #T_329ae_row10_col6, #T_329ae_row10_col7, #T_329ae_row10_col8, #T_329ae_row10_col9, #T_329ae_row11_col0, #T_329ae_row11_col1, #T_329ae_row11_col2, #T_329ae_row11_col3, #T_329ae_row11_col4, #T_329ae_row11_col5, #T_329ae_row11_col6, #T_329ae_row11_col7 {\n",
       "  background-color: white;\n",
       "}\n",
       "</style>\n",
       "<table id=\"T_329ae\">\n",
       "  <thead>\n",
       "    <tr>\n",
       "      <th class=\"blank level0\" >&nbsp;</th>\n",
       "      <th id=\"T_329ae_level0_col0\" class=\"col_heading level0 col0\" colspan=\"2\">2017-Preiner-keymaera</th>\n",
       "      <th id=\"T_329ae_level0_col2\" class=\"col_heading level0 col2\" colspan=\"2\">2017-Preiner-psyco</th>\n",
       "      <th id=\"T_329ae_level0_col4\" class=\"col_heading level0 col4\" colspan=\"2\">2018-Preiner-cav18</th>\n",
       "      <th id=\"T_329ae_level0_col6\" class=\"col_heading level0 col6\" colspan=\"2\">20230321-UltimateAutomizerSvcomp2023</th>\n",
       "      <th id=\"T_329ae_level0_col8\" class=\"col_heading level0 col8\" colspan=\"2\">wintersteiger</th>\n",
       "    </tr>\n",
       "    <tr>\n",
       "      <th class=\"blank level1\" >&nbsp;</th>\n",
       "      <th id=\"T_329ae_level1_col0\" class=\"col_heading level1 col0\" >orig</th>\n",
       "      <th id=\"T_329ae_level1_col1\" class=\"col_heading level1 col1\" >not lazy cached</th>\n",
       "      <th id=\"T_329ae_level1_col2\" class=\"col_heading level1 col2\" >orig</th>\n",
       "      <th id=\"T_329ae_level1_col3\" class=\"col_heading level1 col3\" >not lazy cached</th>\n",
       "      <th id=\"T_329ae_level1_col4\" class=\"col_heading level1 col4\" >orig</th>\n",
       "      <th id=\"T_329ae_level1_col5\" class=\"col_heading level1 col5\" >not lazy cached</th>\n",
       "      <th id=\"T_329ae_level1_col6\" class=\"col_heading level1 col6\" >orig</th>\n",
       "      <th id=\"T_329ae_level1_col7\" class=\"col_heading level1 col7\" >not lazy cached</th>\n",
       "      <th id=\"T_329ae_level1_col8\" class=\"col_heading level1 col8\" >orig</th>\n",
       "      <th id=\"T_329ae_level1_col9\" class=\"col_heading level1 col9\" >not lazy cached</th>\n",
       "    </tr>\n",
       "  </thead>\n",
       "  <tbody>\n",
       "    <tr>\n",
       "      <th id=\"T_329ae_level0_row0\" class=\"row_heading level0 row0\" >total</th>\n",
       "      <td id=\"T_329ae_row0_col0\" class=\"data row0 col0\" >8929.591448</td>\n",
       "      <td id=\"T_329ae_row0_col1\" class=\"data row0 col1\" >8534.462463</td>\n",
       "      <td id=\"T_329ae_row0_col2\" class=\"data row0 col2\" >13583.361213</td>\n",
       "      <td id=\"T_329ae_row0_col3\" class=\"data row0 col3\" >15850.085911</td>\n",
       "      <td id=\"T_329ae_row0_col4\" class=\"data row0 col4\" >11573.525828</td>\n",
       "      <td id=\"T_329ae_row0_col5\" class=\"data row0 col5\" >11600.895202</td>\n",
       "      <td id=\"T_329ae_row0_col6\" class=\"data row0 col6\" >10066.185572</td>\n",
       "      <td id=\"T_329ae_row0_col7\" class=\"data row0 col7\" >2019.376839</td>\n",
       "      <td id=\"T_329ae_row0_col8\" class=\"data row0 col8\" >2680.432711</td>\n",
       "      <td id=\"T_329ae_row0_col9\" class=\"data row0 col9\" >3484.623356</td>\n",
       "    </tr>\n",
       "    <tr>\n",
       "      <th id=\"T_329ae_level0_row1\" class=\"row_heading level0 row1\" >sat total</th>\n",
       "      <td id=\"T_329ae_row1_col0\" class=\"data row1 col0\" >469.433994</td>\n",
       "      <td id=\"T_329ae_row1_col1\" class=\"data row1 col1\" >527.771809</td>\n",
       "      <td id=\"T_329ae_row1_col2\" class=\"data row1 col2\" >829.460103</td>\n",
       "      <td id=\"T_329ae_row1_col3\" class=\"data row1 col3\" >727.554358</td>\n",
       "      <td id=\"T_329ae_row1_col4\" class=\"data row1 col4\" >0.000000</td>\n",
       "      <td id=\"T_329ae_row1_col5\" class=\"data row1 col5\" >0.000000</td>\n",
       "      <td id=\"T_329ae_row1_col6\" class=\"data row1 col6\" >3.301213</td>\n",
       "      <td id=\"T_329ae_row1_col7\" class=\"data row1 col7\" >5.429907</td>\n",
       "      <td id=\"T_329ae_row1_col8\" class=\"data row1 col8\" >285.452011</td>\n",
       "      <td id=\"T_329ae_row1_col9\" class=\"data row1 col9\" >263.779877</td>\n",
       "    </tr>\n",
       "    <tr>\n",
       "      <th id=\"T_329ae_level0_row2\" class=\"row_heading level0 row2\" >unsat total</th>\n",
       "      <td id=\"T_329ae_row2_col0\" class=\"data row2 col0\" >280.524171</td>\n",
       "      <td id=\"T_329ae_row2_col1\" class=\"data row2 col1\" >434.457596</td>\n",
       "      <td id=\"T_329ae_row2_col2\" class=\"data row2 col2\" >90.161614</td>\n",
       "      <td id=\"T_329ae_row2_col3\" class=\"data row2 col3\" >30.741959</td>\n",
       "      <td id=\"T_329ae_row2_col4\" class=\"data row2 col4\" >361.528718</td>\n",
       "      <td id=\"T_329ae_row2_col5\" class=\"data row2 col5\" >390.648474</td>\n",
       "      <td id=\"T_329ae_row2_col6\" class=\"data row2 col6\" >64.701073</td>\n",
       "      <td id=\"T_329ae_row2_col7\" class=\"data row2 col7\" >498.936355</td>\n",
       "      <td id=\"T_329ae_row2_col8\" class=\"data row2 col8\" >93.864412</td>\n",
       "      <td id=\"T_329ae_row2_col9\" class=\"data row2 col9\" >500.273148</td>\n",
       "    </tr>\n",
       "    <tr>\n",
       "      <th id=\"T_329ae_level0_row3\" class=\"row_heading level0 row3\" >timeout total</th>\n",
       "      <td id=\"T_329ae_row3_col0\" class=\"data row3 col0\" >8179.633283</td>\n",
       "      <td id=\"T_329ae_row3_col1\" class=\"data row3 col1\" >7572.233059</td>\n",
       "      <td id=\"T_329ae_row3_col2\" class=\"data row3 col2\" >12663.739496</td>\n",
       "      <td id=\"T_329ae_row3_col3\" class=\"data row3 col3\" >15091.789594</td>\n",
       "      <td id=\"T_329ae_row3_col4\" class=\"data row3 col4\" >11211.997110</td>\n",
       "      <td id=\"T_329ae_row3_col5\" class=\"data row3 col5\" >11210.246728</td>\n",
       "      <td id=\"T_329ae_row3_col6\" class=\"data row3 col6\" >9998.183287</td>\n",
       "      <td id=\"T_329ae_row3_col7\" class=\"data row3 col7\" >1515.010577</td>\n",
       "      <td id=\"T_329ae_row3_col8\" class=\"data row3 col8\" >2109.334693</td>\n",
       "      <td id=\"T_329ae_row3_col9\" class=\"data row3 col9\" >2715.419004</td>\n",
       "    </tr>\n",
       "    <tr>\n",
       "      <th id=\"T_329ae_level0_row4\" class=\"row_heading level0 row4\" >segfault total</th>\n",
       "      <td id=\"T_329ae_row4_col0\" class=\"data row4 col0\" >0.000000</td>\n",
       "      <td id=\"T_329ae_row4_col1\" class=\"data row4 col1\" >0.000000</td>\n",
       "      <td id=\"T_329ae_row4_col2\" class=\"data row4 col2\" >0.000000</td>\n",
       "      <td id=\"T_329ae_row4_col3\" class=\"data row4 col3\" >0.000000</td>\n",
       "      <td id=\"T_329ae_row4_col4\" class=\"data row4 col4\" >0.000000</td>\n",
       "      <td id=\"T_329ae_row4_col5\" class=\"data row4 col5\" >0.000000</td>\n",
       "      <td id=\"T_329ae_row4_col6\" class=\"data row4 col6\" >0.000000</td>\n",
       "      <td id=\"T_329ae_row4_col7\" class=\"data row4 col7\" >0.000000</td>\n",
       "      <td id=\"T_329ae_row4_col8\" class=\"data row4 col8\" >0.000000</td>\n",
       "      <td id=\"T_329ae_row4_col9\" class=\"data row4 col9\" >0.000000</td>\n",
       "    </tr>\n",
       "    <tr>\n",
       "      <th id=\"T_329ae_level0_row5\" class=\"row_heading level0 row5\" >other total</th>\n",
       "      <td id=\"T_329ae_row5_col0\" class=\"data row5 col0\" >0.000000</td>\n",
       "      <td id=\"T_329ae_row5_col1\" class=\"data row5 col1\" >0.000000</td>\n",
       "      <td id=\"T_329ae_row5_col2\" class=\"data row5 col2\" >0.000000</td>\n",
       "      <td id=\"T_329ae_row5_col3\" class=\"data row5 col3\" >0.000000</td>\n",
       "      <td id=\"T_329ae_row5_col4\" class=\"data row5 col4\" >0.000000</td>\n",
       "      <td id=\"T_329ae_row5_col5\" class=\"data row5 col5\" >0.000000</td>\n",
       "      <td id=\"T_329ae_row5_col6\" class=\"data row5 col6\" >0.000000</td>\n",
       "      <td id=\"T_329ae_row5_col7\" class=\"data row5 col7\" >0.000000</td>\n",
       "      <td id=\"T_329ae_row5_col8\" class=\"data row5 col8\" >191.781595</td>\n",
       "      <td id=\"T_329ae_row5_col9\" class=\"data row5 col9\" >5.151328</td>\n",
       "    </tr>\n",
       "    <tr>\n",
       "      <th id=\"T_329ae_level0_row6\" class=\"row_heading level0 row6\" >average</th>\n",
       "      <td id=\"T_329ae_row6_col0\" class=\"data row6 col0\" >2.213034</td>\n",
       "      <td id=\"T_329ae_row6_col1\" class=\"data row6 col1\" >2.115108</td>\n",
       "      <td id=\"T_329ae_row6_col2\" class=\"data row6 col2\" >70.017326</td>\n",
       "      <td id=\"T_329ae_row6_col3\" class=\"data row6 col3\" >81.701474</td>\n",
       "      <td id=\"T_329ae_row6_col4\" class=\"data row6 col4\" >19.289210</td>\n",
       "      <td id=\"T_329ae_row6_col5\" class=\"data row6 col5\" >19.334825</td>\n",
       "      <td id=\"T_329ae_row6_col6\" class=\"data row6 col6\" >71.901326</td>\n",
       "      <td id=\"T_329ae_row6_col7\" class=\"data row6 col7\" >14.424120</td>\n",
       "      <td id=\"T_329ae_row6_col8\" class=\"data row6 col8\" >14.809021</td>\n",
       "      <td id=\"T_329ae_row6_col9\" class=\"data row6 col9\" >19.252063</td>\n",
       "    </tr>\n",
       "    <tr>\n",
       "      <th id=\"T_329ae_level0_row7\" class=\"row_heading level0 row7\" >sat average</th>\n",
       "      <td id=\"T_329ae_row7_col0\" class=\"data row7 col0\" >4.513788</td>\n",
       "      <td id=\"T_329ae_row7_col1\" class=\"data row7 col1\" >5.074729</td>\n",
       "      <td id=\"T_329ae_row7_col2\" class=\"data row7 col2\" >7.975578</td>\n",
       "      <td id=\"T_329ae_row7_col3\" class=\"data row7 col3\" >7.578691</td>\n",
       "      <td id=\"T_329ae_row7_col4\" class=\"data row7 col4\" >0.000000</td>\n",
       "      <td id=\"T_329ae_row7_col5\" class=\"data row7 col5\" >0.000000</td>\n",
       "      <td id=\"T_329ae_row7_col6\" class=\"data row7 col6\" >0.253939</td>\n",
       "      <td id=\"T_329ae_row7_col7\" class=\"data row7 col7\" >0.417685</td>\n",
       "      <td id=\"T_329ae_row7_col8\" class=\"data row7 col8\" >3.481122</td>\n",
       "      <td id=\"T_329ae_row7_col9\" class=\"data row7 col9\" >3.381793</td>\n",
       "    </tr>\n",
       "    <tr>\n",
       "      <th id=\"T_329ae_level0_row8\" class=\"row_heading level0 row8\" >unsat average</th>\n",
       "      <td id=\"T_329ae_row8_col0\" class=\"data row8 col0\" >0.071856</td>\n",
       "      <td id=\"T_329ae_row8_col1\" class=\"data row8 col1\" >0.111228</td>\n",
       "      <td id=\"T_329ae_row8_col2\" class=\"data row8 col2\" >1.878367</td>\n",
       "      <td id=\"T_329ae_row8_col3\" class=\"data row8 col3\" >0.640457</td>\n",
       "      <td id=\"T_329ae_row8_col4\" class=\"data row8 col4\" >0.642147</td>\n",
       "      <td id=\"T_329ae_row8_col5\" class=\"data row8 col5\" >0.693869</td>\n",
       "      <td id=\"T_329ae_row8_col6\" class=\"data row8 col6\" >0.688309</td>\n",
       "      <td id=\"T_329ae_row8_col7\" class=\"data row8 col7\" >4.089642</td>\n",
       "      <td id=\"T_329ae_row8_col8\" class=\"data row8 col8\" >1.031477</td>\n",
       "      <td id=\"T_329ae_row8_col9\" class=\"data row8 col9\" >5.558591</td>\n",
       "    </tr>\n",
       "    <tr>\n",
       "      <th id=\"T_329ae_level0_row9\" class=\"row_heading level0 row9\" >timeout average</th>\n",
       "      <td id=\"T_329ae_row9_col0\" class=\"data row9 col0\" >302.949381</td>\n",
       "      <td id=\"T_329ae_row9_col1\" class=\"data row9 col1\" >302.889322</td>\n",
       "      <td id=\"T_329ae_row9_col2\" class=\"data row9 col2\" >301.517607</td>\n",
       "      <td id=\"T_329ae_row9_col3\" class=\"data row9 col3\" >301.835792</td>\n",
       "      <td id=\"T_329ae_row9_col4\" class=\"data row9 col4\" >303.026949</td>\n",
       "      <td id=\"T_329ae_row9_col5\" class=\"data row9 col5\" >302.979641</td>\n",
       "      <td id=\"T_329ae_row9_col6\" class=\"data row9 col6\" >302.975251</td>\n",
       "      <td id=\"T_329ae_row9_col7\" class=\"data row9 col7\" >303.002115</td>\n",
       "      <td id=\"T_329ae_row9_col8\" class=\"data row9 col8\" >301.333528</td>\n",
       "      <td id=\"T_329ae_row9_col9\" class=\"data row9 col9\" >301.713223</td>\n",
       "    </tr>\n",
       "    <tr>\n",
       "      <th id=\"T_329ae_level0_row10\" class=\"row_heading level0 row10\" >segfault average</th>\n",
       "      <td id=\"T_329ae_row10_col0\" class=\"data row10 col0\" >0.000000</td>\n",
       "      <td id=\"T_329ae_row10_col1\" class=\"data row10 col1\" >0.000000</td>\n",
       "      <td id=\"T_329ae_row10_col2\" class=\"data row10 col2\" >0.000000</td>\n",
       "      <td id=\"T_329ae_row10_col3\" class=\"data row10 col3\" >0.000000</td>\n",
       "      <td id=\"T_329ae_row10_col4\" class=\"data row10 col4\" >0.000000</td>\n",
       "      <td id=\"T_329ae_row10_col5\" class=\"data row10 col5\" >0.000000</td>\n",
       "      <td id=\"T_329ae_row10_col6\" class=\"data row10 col6\" >0.000000</td>\n",
       "      <td id=\"T_329ae_row10_col7\" class=\"data row10 col7\" >0.000000</td>\n",
       "      <td id=\"T_329ae_row10_col8\" class=\"data row10 col8\" >0.000000</td>\n",
       "      <td id=\"T_329ae_row10_col9\" class=\"data row10 col9\" >0.000000</td>\n",
       "    </tr>\n",
       "    <tr>\n",
       "      <th id=\"T_329ae_level0_row11\" class=\"row_heading level0 row11\" >others average</th>\n",
       "      <td id=\"T_329ae_row11_col0\" class=\"data row11 col0\" >0.000000</td>\n",
       "      <td id=\"T_329ae_row11_col1\" class=\"data row11 col1\" >0.000000</td>\n",
       "      <td id=\"T_329ae_row11_col2\" class=\"data row11 col2\" >0.000000</td>\n",
       "      <td id=\"T_329ae_row11_col3\" class=\"data row11 col3\" >0.000000</td>\n",
       "      <td id=\"T_329ae_row11_col4\" class=\"data row11 col4\" >0.000000</td>\n",
       "      <td id=\"T_329ae_row11_col5\" class=\"data row11 col5\" >0.000000</td>\n",
       "      <td id=\"T_329ae_row11_col6\" class=\"data row11 col6\" >0.000000</td>\n",
       "      <td id=\"T_329ae_row11_col7\" class=\"data row11 col7\" >0.000000</td>\n",
       "      <td id=\"T_329ae_row11_col8\" class=\"data row11 col8\" >191.781595</td>\n",
       "      <td id=\"T_329ae_row11_col9\" class=\"data row11 col9\" >1.287832</td>\n",
       "    </tr>\n",
       "  </tbody>\n",
       "</table>\n"
      ],
      "text/plain": [
       "<pandas.io.formats.style.Styler at 0x7f466e7d3df0>"
      ]
     },
     "execution_count": 9,
     "metadata": {},
     "output_type": "execute_result"
    }
   ],
   "source": [
    "timecompare"
   ]
  },
  {
   "cell_type": "code",
   "execution_count": 12,
   "id": "2a40d11f",
   "metadata": {},
   "outputs": [],
   "source": [
    "new_errors, both_errors, removed_errors, new_timeouts, removed_timeouts,nan_values, mistakes  = ml.get_worse_results(orig_dir, current_dir[0])"
   ]
  },
  {
   "cell_type": "markdown",
   "id": "d2a29b70",
   "metadata": {},
   "source": [
    "# Worse"
   ]
  },
  {
   "cell_type": "code",
   "execution_count": 13,
   "id": "8c1309fd",
   "metadata": {},
   "outputs": [
    {
     "data": {
      "text/plain": [
       "[]"
      ]
     },
     "execution_count": 13,
     "metadata": {},
     "output_type": "execute_result"
    }
   ],
   "source": [
    "mistakes"
   ]
  },
  {
   "cell_type": "code",
   "execution_count": 14,
   "id": "abcf3901",
   "metadata": {},
   "outputs": [
    {
     "data": {
      "text/plain": [
       "[(                                         benchmarkfile result   cputime  \\\n",
       "  180  wintersteiger/fmsd13/ranking/ranking-network_u...  false  8.764648   \n",
       "  \n",
       "       walltime      memory  \n",
       "  180  3.260572  480.346112  ,\n",
       "                                           benchmarkfile   result     cputime  \\\n",
       "  180  wintersteiger/fmsd13/ranking/ranking-network_u...  TIMEOUT  303.057078   \n",
       "  \n",
       "         walltime       memory  \n",
       "  180  101.170099  2594.701312  ),\n",
       " (                  benchmarkfile result  cputime  walltime      memory\n",
       "  46  2017-Preiner-psyco/047.smt2   true  1.59085  1.214352  215.707648,\n",
       "                    benchmarkfile   result     cputime    walltime       memory\n",
       "  46  2017-Preiner-psyco/047.smt2  TIMEOUT  303.150786  102.278338  2233.704448),\n",
       " (                  benchmarkfile result   cputime  walltime      memory\n",
       "  47  2017-Preiner-psyco/048.smt2   true  1.479164  1.148471  172.965888,\n",
       "                    benchmarkfile   result     cputime    walltime       memory\n",
       "  47  2017-Preiner-psyco/048.smt2  TIMEOUT  303.230035  102.366985  3432.689664),\n",
       " (                  benchmarkfile result   cputime  walltime      memory\n",
       "  48  2017-Preiner-psyco/049.smt2   true  1.369246  1.148417  180.580352,\n",
       "                    benchmarkfile   result     cputime    walltime       memory\n",
       "  48  2017-Preiner-psyco/049.smt2  TIMEOUT  300.669584  101.112078  2303.623168),\n",
       " (                  benchmarkfile result   cputime  walltime      memory\n",
       "  90  2017-Preiner-psyco/091.smt2   true  1.168601  1.013849  161.738752,\n",
       "                    benchmarkfile   result     cputime    walltime       memory\n",
       "  90  2017-Preiner-psyco/091.smt2  TIMEOUT  300.778905  101.142482  2941.689856),\n",
       " (                  benchmarkfile result   cputime  walltime      memory\n",
       "  91  2017-Preiner-psyco/092.smt2   true  1.408569  1.103535  170.737664,\n",
       "                    benchmarkfile   result     cputime    walltime       memory\n",
       "  91  2017-Preiner-psyco/092.smt2  TIMEOUT  300.713122  101.093823  1891.643392),\n",
       " (                  benchmarkfile result   cputime  walltime      memory\n",
       "  92  2017-Preiner-psyco/093.smt2   true  1.561815  1.275905  171.667456,\n",
       "                    benchmarkfile   result     cputime    walltime       memory\n",
       "  92  2017-Preiner-psyco/093.smt2  TIMEOUT  303.120872  102.306076  1827.028992),\n",
       " (                  benchmarkfile result   cputime  walltime      memory\n",
       "  93  2017-Preiner-psyco/094.smt2   true  1.590469  1.262771  172.371968,\n",
       "                    benchmarkfile   result     cputime    walltime       memory\n",
       "  93  2017-Preiner-psyco/094.smt2  TIMEOUT  303.132396  102.463373  2101.202944),\n",
       " (                   benchmarkfile result   cputime  walltime      memory\n",
       "  135  2017-Preiner-psyco/136.smt2   true  2.167753  2.034438  133.312512,\n",
       "                     benchmarkfile   result    cputime    walltime       memory\n",
       "  135  2017-Preiner-psyco/136.smt2  TIMEOUT  303.09643  102.760325  1811.025920)]"
      ]
     },
     "execution_count": 14,
     "metadata": {},
     "output_type": "execute_result"
    }
   ],
   "source": [
    "new_timeouts"
   ]
  },
  {
   "cell_type": "code",
   "execution_count": 15,
   "id": "f5b4f1ec",
   "metadata": {},
   "outputs": [
    {
     "data": {
      "text/plain": [
       "[(                                        benchmarkfile result   cputime  \\\n",
       "  70  wintersteiger/fmsd13/fixpoint/fixpoint-small-p...   true  4.321999   \n",
       "  \n",
       "      walltime      memory  \n",
       "  70  1.520712  287.760384  ,\n",
       "                                          benchmarkfile   result  cputime  \\\n",
       "  70  wintersteiger/fmsd13/fixpoint/fixpoint-small-p...  ABORTED  0.54919   \n",
       "  \n",
       "      walltime      memory  \n",
       "  70  0.353081  148.623360  ),\n",
       " (                                        benchmarkfile result  cputime  \\\n",
       "  71  wintersteiger/fmsd13/fixpoint/fixpoint-small-p...   true  3.46886   \n",
       "  \n",
       "      walltime      memory  \n",
       "  71  1.222736  268.300288  ,\n",
       "                                          benchmarkfile   result   cputime  \\\n",
       "  71  wintersteiger/fmsd13/fixpoint/fixpoint-small-p...  ABORTED  1.293617   \n",
       "  \n",
       "      walltime      memory  \n",
       "  71  0.617137  183.857152  ),\n",
       " (                                        benchmarkfile result   cputime  \\\n",
       "  72  wintersteiger/fmsd13/fixpoint/fixpoint-small-p...   true  2.169694   \n",
       "  \n",
       "      walltime      memory  \n",
       "  72  0.800458  250.511360  ,\n",
       "                                          benchmarkfile   result   cputime  \\\n",
       "  72  wintersteiger/fmsd13/fixpoint/fixpoint-small-p...  ABORTED  1.035868   \n",
       "  \n",
       "      walltime      memory  \n",
       "  72  0.500378  205.197312  ),\n",
       " (                                        benchmarkfile result   cputime  \\\n",
       "  73  wintersteiger/fmsd13/fixpoint/fixpoint-small-p...   true  2.531428   \n",
       "  \n",
       "      walltime      memory  \n",
       "  73  0.923263  309.673984  ,\n",
       "                                          benchmarkfile   result   cputime  \\\n",
       "  73  wintersteiger/fmsd13/fixpoint/fixpoint-small-p...  ABORTED  2.272653   \n",
       "  \n",
       "      walltime      memory  \n",
       "  73  1.048376  223.543296  )]"
      ]
     },
     "execution_count": 15,
     "metadata": {},
     "output_type": "execute_result"
    }
   ],
   "source": [
    "new_errors"
   ]
  },
  {
   "cell_type": "code",
   "execution_count": 16,
   "id": "ee3933c1",
   "metadata": {},
   "outputs": [
    {
     "data": {
      "text/plain": [
       "[]"
      ]
     },
     "execution_count": 16,
     "metadata": {},
     "output_type": "execute_result"
    }
   ],
   "source": [
    "both_errors"
   ]
  },
  {
   "cell_type": "markdown",
   "id": "b16e2a00",
   "metadata": {},
   "source": [
    "# Better"
   ]
  },
  {
   "cell_type": "code",
   "execution_count": 17,
   "id": "4d7706f1",
   "metadata": {},
   "outputs": [
    {
     "data": {
      "text/plain": [
       "[(                                        benchmarkfile   result     cputime  \\\n",
       "  41  wintersteiger/fmsd13/fixpoint/fixpoint-sdlx-fi...  ABORTED  191.781595   \n",
       "  \n",
       "        walltime      memory  \n",
       "  41  100.627648  483.106816  ,\n",
       "                                          benchmarkfile   result     cputime  \\\n",
       "  41  wintersteiger/fmsd13/fixpoint/fixpoint-sdlx-fi...  TIMEOUT  302.991085   \n",
       "  \n",
       "        walltime      memory  \n",
       "  41  149.929982  182.943744  )]"
      ]
     },
     "execution_count": 17,
     "metadata": {},
     "output_type": "execute_result"
    }
   ],
   "source": [
    "removed_errors"
   ]
  },
  {
   "cell_type": "code",
   "execution_count": 18,
   "id": "99b3b589",
   "metadata": {},
   "outputs": [
    {
     "data": {
      "text/plain": [
       "[(                                         benchmarkfile   result     cputime  \\\n",
       "  106  20230321-UltimateAutomizerSvcomp2023/soft_floa...  TIMEOUT  302.964754   \n",
       "  \n",
       "         walltime      memory  \n",
       "  106  101.028022  408.526848  ,\n",
       "                                           benchmarkfile result    cputime  \\\n",
       "  106  20230321-UltimateAutomizerSvcomp2023/soft_floa...  false  12.192306   \n",
       "  \n",
       "       walltime      memory  \n",
       "  106  5.617039  324.149248  ),\n",
       " (                                         benchmarkfile   result     cputime  \\\n",
       "  107  20230321-UltimateAutomizerSvcomp2023/soft_floa...  TIMEOUT  302.964371   \n",
       "  \n",
       "         walltime      memory  \n",
       "  107  101.032074  480.268288  ,\n",
       "                                           benchmarkfile result    cputime  \\\n",
       "  107  20230321-UltimateAutomizerSvcomp2023/soft_floa...  false  16.124704   \n",
       "  \n",
       "       walltime      memory  \n",
       "  107  6.808876  308.531200  ),\n",
       " (                                         benchmarkfile   result     cputime  \\\n",
       "  108  20230321-UltimateAutomizerSvcomp2023/soft_floa...  TIMEOUT  302.964527   \n",
       "  \n",
       "         walltime      memory  \n",
       "  108  101.028486  406.704128  ,\n",
       "                                           benchmarkfile result    cputime  \\\n",
       "  108  20230321-UltimateAutomizerSvcomp2023/soft_floa...  false  13.513635   \n",
       "  \n",
       "       walltime      memory  \n",
       "  108  5.861127  264.646656  ),\n",
       " (                                         benchmarkfile   result     cputime  \\\n",
       "  109  20230321-UltimateAutomizerSvcomp2023/soft_floa...  TIMEOUT  302.962456   \n",
       "  \n",
       "         walltime      memory  \n",
       "  109  101.031026  416.264192  ,\n",
       "                                           benchmarkfile result    cputime  \\\n",
       "  109  20230321-UltimateAutomizerSvcomp2023/soft_floa...  false  13.315907   \n",
       "  \n",
       "       walltime      memory  \n",
       "  109  5.526123  264.495104  ),\n",
       " (                                         benchmarkfile   result   cputime  \\\n",
       "  110  20230321-UltimateAutomizerSvcomp2023/soft_floa...  TIMEOUT  302.9626   \n",
       "  \n",
       "         walltime      memory  \n",
       "  110  101.030875  411.676672  ,\n",
       "                                           benchmarkfile result    cputime  \\\n",
       "  110  20230321-UltimateAutomizerSvcomp2023/soft_floa...  false  16.897282   \n",
       "  \n",
       "       walltime      memory  \n",
       "  110  7.944687  324.165632  ),\n",
       " (                                         benchmarkfile   result     cputime  \\\n",
       "  111  20230321-UltimateAutomizerSvcomp2023/soft_floa...  TIMEOUT  302.967109   \n",
       "  \n",
       "         walltime      memory  \n",
       "  111  101.030991  406.544384  ,\n",
       "                                           benchmarkfile result    cputime  \\\n",
       "  111  20230321-UltimateAutomizerSvcomp2023/soft_floa...  false  15.909924   \n",
       "  \n",
       "       walltime      memory  \n",
       "  111  6.670484  308.535296  ),\n",
       " (                                         benchmarkfile   result     cputime  \\\n",
       "  112  20230321-UltimateAutomizerSvcomp2023/soft_floa...  TIMEOUT  302.961917   \n",
       "  \n",
       "         walltime      memory  \n",
       "  112  101.029725  406.425600  ,\n",
       "                                           benchmarkfile result   cputime  \\\n",
       "  112  20230321-UltimateAutomizerSvcomp2023/soft_floa...  false  9.181559   \n",
       "  \n",
       "       walltime      memory  \n",
       "  112  3.344817  260.116480  ),\n",
       " (                                         benchmarkfile   result     cputime  \\\n",
       "  113  20230321-UltimateAutomizerSvcomp2023/soft_floa...  TIMEOUT  302.969641   \n",
       "  \n",
       "         walltime      memory  \n",
       "  113  101.030644  409.092096  ,\n",
       "                                           benchmarkfile result    cputime  \\\n",
       "  113  20230321-UltimateAutomizerSvcomp2023/soft_floa...  false  14.793479   \n",
       "  \n",
       "       walltime      memory  \n",
       "  113  6.335121  324.526080  ),\n",
       " (                                         benchmarkfile   result     cputime  \\\n",
       "  115  20230321-UltimateAutomizerSvcomp2023/soft_floa...  TIMEOUT  302.965434   \n",
       "  \n",
       "         walltime      memory  \n",
       "  115  101.029944  406.724608  ,\n",
       "                                           benchmarkfile result    cputime  \\\n",
       "  115  20230321-UltimateAutomizerSvcomp2023/soft_floa...  false  13.268086   \n",
       "  \n",
       "       walltime      memory  \n",
       "  115  5.665598  264.810496  ),\n",
       " (                                         benchmarkfile   result    cputime  \\\n",
       "  116  20230321-UltimateAutomizerSvcomp2023/soft_floa...  TIMEOUT  302.97517   \n",
       "  \n",
       "       walltime      memory  \n",
       "  116  101.0372  473.464832  ,\n",
       "                                           benchmarkfile result    cputime  \\\n",
       "  116  20230321-UltimateAutomizerSvcomp2023/soft_floa...  false  11.347187   \n",
       "  \n",
       "       walltime      memory  \n",
       "  116  4.195157  257.933312  ),\n",
       " (                                         benchmarkfile   result     cputime  \\\n",
       "  117  20230321-UltimateAutomizerSvcomp2023/soft_floa...  TIMEOUT  302.967539   \n",
       "  \n",
       "         walltime      memory  \n",
       "  117  101.032842  412.364800  ,\n",
       "                                           benchmarkfile result    cputime  \\\n",
       "  117  20230321-UltimateAutomizerSvcomp2023/soft_floa...  false  18.493457   \n",
       "  \n",
       "       walltime      memory  \n",
       "  117  7.753646  264.732672  ),\n",
       " (                                         benchmarkfile   result     cputime  \\\n",
       "  120  20230321-UltimateAutomizerSvcomp2023/soft_floa...  TIMEOUT  302.972995   \n",
       "  \n",
       "        walltime      memory  \n",
       "  120  101.03483  461.053952  ,\n",
       "                                           benchmarkfile result    cputime  \\\n",
       "  120  20230321-UltimateAutomizerSvcomp2023/soft_floa...  false  18.142799   \n",
       "  \n",
       "       walltime      memory  \n",
       "  120   8.59093  330.182656  ),\n",
       " (                                         benchmarkfile   result     cputime  \\\n",
       "  121  20230321-UltimateAutomizerSvcomp2023/soft_floa...  TIMEOUT  302.975157   \n",
       "  \n",
       "         walltime      memory  \n",
       "  121  101.036018  464.207872  ,\n",
       "                                           benchmarkfile result    cputime  \\\n",
       "  121  20230321-UltimateAutomizerSvcomp2023/soft_floa...  false  16.052862   \n",
       "  \n",
       "       walltime      memory  \n",
       "  121  7.560588  330.309632  ),\n",
       " (                                         benchmarkfile   result     cputime  \\\n",
       "  122  20230321-UltimateAutomizerSvcomp2023/soft_floa...  TIMEOUT  302.965378   \n",
       "  \n",
       "         walltime      memory  \n",
       "  122  101.034913  460.148736  ,\n",
       "                                           benchmarkfile result    cputime  \\\n",
       "  122  20230321-UltimateAutomizerSvcomp2023/soft_floa...  false  16.551953   \n",
       "  \n",
       "       walltime      memory  \n",
       "  122  5.755694  330.457088  ),\n",
       " (                                         benchmarkfile   result     cputime  \\\n",
       "  123  20230321-UltimateAutomizerSvcomp2023/soft_floa...  TIMEOUT  302.974872   \n",
       "  \n",
       "         walltime      memory  \n",
       "  123  101.033482  464.101376  ,\n",
       "                                           benchmarkfile result   cputime  \\\n",
       "  123  20230321-UltimateAutomizerSvcomp2023/soft_floa...  false  11.62309   \n",
       "  \n",
       "       walltime      memory  \n",
       "  123  4.734303  263.417856  ),\n",
       " (                                         benchmarkfile   result     cputime  \\\n",
       "  124  20230321-UltimateAutomizerSvcomp2023/soft_floa...  TIMEOUT  302.967455   \n",
       "  \n",
       "         walltime      memory  \n",
       "  124  101.036257  463.982592  ,\n",
       "                                           benchmarkfile result   cputime  \\\n",
       "  124  20230321-UltimateAutomizerSvcomp2023/soft_floa...  false  15.06686   \n",
       "  \n",
       "       walltime      memory  \n",
       "  124  7.221914  330.448896  ),\n",
       " (                                         benchmarkfile   result     cputime  \\\n",
       "  125  20230321-UltimateAutomizerSvcomp2023/soft_floa...  TIMEOUT  302.969974   \n",
       "  \n",
       "         walltime      memory  \n",
       "  125  101.035778  446.488576  ,\n",
       "                                           benchmarkfile result    cputime  \\\n",
       "  125  20230321-UltimateAutomizerSvcomp2023/soft_floa...  false  21.572425   \n",
       "  \n",
       "       walltime      memory  \n",
       "  125  7.606822  374.996992  ),\n",
       " (                                         benchmarkfile   result     cputime  \\\n",
       "  126  20230321-UltimateAutomizerSvcomp2023/soft_floa...  TIMEOUT  302.964875   \n",
       "  \n",
       "         walltime      memory  \n",
       "  126  101.031991  406.929408  ,\n",
       "                                           benchmarkfile result    cputime  \\\n",
       "  126  20230321-UltimateAutomizerSvcomp2023/soft_floa...  false  15.964474   \n",
       "  \n",
       "       walltime      memory  \n",
       "  126  6.776873  325.591040  ),\n",
       " (                                         benchmarkfile   result     cputime  \\\n",
       "  127  20230321-UltimateAutomizerSvcomp2023/soft_floa...  TIMEOUT  302.961375   \n",
       "  \n",
       "         walltime      memory  \n",
       "  127  101.028647  411.119616  ,\n",
       "                                           benchmarkfile result    cputime  \\\n",
       "  127  20230321-UltimateAutomizerSvcomp2023/soft_floa...  false  16.700217   \n",
       "  \n",
       "       walltime      memory  \n",
       "  127  7.815517  326.160384  ),\n",
       " (                                         benchmarkfile   result     cputime  \\\n",
       "  128  20230321-UltimateAutomizerSvcomp2023/soft_floa...  TIMEOUT  302.955805   \n",
       "  \n",
       "         walltime      memory  \n",
       "  128  101.029767  408.313856  ,\n",
       "                                           benchmarkfile result   cputime  \\\n",
       "  128  20230321-UltimateAutomizerSvcomp2023/soft_floa...  false  9.237789   \n",
       "  \n",
       "       walltime      memory  \n",
       "  128  3.419405  257.990656  ),\n",
       " (                                         benchmarkfile   result     cputime  \\\n",
       "  129  20230321-UltimateAutomizerSvcomp2023/soft_floa...  TIMEOUT  302.967681   \n",
       "  \n",
       "         walltime      memory  \n",
       "  129  101.029316  407.969792  ,\n",
       "                                           benchmarkfile result    cputime  \\\n",
       "  129  20230321-UltimateAutomizerSvcomp2023/soft_floa...  false  14.386607   \n",
       "  \n",
       "       walltime      memory  \n",
       "  129  6.052005  324.112384  ),\n",
       " (                                         benchmarkfile   result     cputime  \\\n",
       "  130  20230321-UltimateAutomizerSvcomp2023/soft_floa...  TIMEOUT  302.955239   \n",
       "  \n",
       "         walltime      memory  \n",
       "  130  101.032725  416.391168  ,\n",
       "                                           benchmarkfile result  cputime  \\\n",
       "  130  20230321-UltimateAutomizerSvcomp2023/soft_floa...  false  15.9338   \n",
       "  \n",
       "       walltime      memory  \n",
       "  130  6.543352  324.874240  ),\n",
       " (                                         benchmarkfile   result     cputime  \\\n",
       "  131  20230321-UltimateAutomizerSvcomp2023/soft_floa...  TIMEOUT  302.971363   \n",
       "  \n",
       "         walltime      memory  \n",
       "  131  101.034782  481.611776  ,\n",
       "                                           benchmarkfile result    cputime  \\\n",
       "  131  20230321-UltimateAutomizerSvcomp2023/soft_floa...  false  15.274631   \n",
       "  \n",
       "       walltime      memory  \n",
       "  131  6.301759  325.738496  ),\n",
       " (                                         benchmarkfile   result     cputime  \\\n",
       "  132  20230321-UltimateAutomizerSvcomp2023/soft_floa...  TIMEOUT  302.958042   \n",
       "  \n",
       "         walltime      memory  \n",
       "  132  101.030521  411.246592  ,\n",
       "                                           benchmarkfile result    cputime  \\\n",
       "  132  20230321-UltimateAutomizerSvcomp2023/soft_floa...  false  13.348848   \n",
       "  \n",
       "       walltime      memory  \n",
       "  132  5.754965  264.777728  ),\n",
       " (                                         benchmarkfile   result     cputime  \\\n",
       "  133  20230321-UltimateAutomizerSvcomp2023/soft_floa...  TIMEOUT  302.964807   \n",
       "  \n",
       "         walltime      memory  \n",
       "  133  101.030456  408.616960  ,\n",
       "                                           benchmarkfile result    cputime  \\\n",
       "  133  20230321-UltimateAutomizerSvcomp2023/soft_floa...  false  16.633584   \n",
       "  \n",
       "       walltime      memory  \n",
       "  133  7.549545  324.358144  ),\n",
       " (                                         benchmarkfile   result     cputime  \\\n",
       "  135  20230321-UltimateAutomizerSvcomp2023/soft_floa...  TIMEOUT  302.970186   \n",
       "  \n",
       "        walltime      memory  \n",
       "  135  101.03499  458.657792  ,\n",
       "                                           benchmarkfile result   cputime  \\\n",
       "  135  20230321-UltimateAutomizerSvcomp2023/soft_floa...  false  10.12372   \n",
       "  \n",
       "       walltime      memory  \n",
       "  135  4.131296  263.655424  ),\n",
       " (                                         benchmarkfile   result     cputime  \\\n",
       "  136  20230321-UltimateAutomizerSvcomp2023/soft_floa...  TIMEOUT  302.966922   \n",
       "  \n",
       "         walltime      memory  \n",
       "  136  101.031847  458.649600  ,\n",
       "                                           benchmarkfile result    cputime  \\\n",
       "  136  20230321-UltimateAutomizerSvcomp2023/soft_floa...  false  21.064906   \n",
       "  \n",
       "       walltime      memory  \n",
       "  136  9.978388  330.473472  ),\n",
       " (                                         benchmarkfile   result     cputime  \\\n",
       "  137  20230321-UltimateAutomizerSvcomp2023/soft_floa...  TIMEOUT  302.960772   \n",
       "  \n",
       "         walltime      memory  \n",
       "  137  101.034893  462.020608  ,\n",
       "                                           benchmarkfile result    cputime  \\\n",
       "  137  20230321-UltimateAutomizerSvcomp2023/soft_floa...  false  18.118267   \n",
       "  \n",
       "       walltime      memory  \n",
       "  137  8.488272  330.309632  ),\n",
       " (                                        benchmarkfile   result     cputime  \\\n",
       "  62  2017-Preiner-keymaera/bouncing-ball-simple-nod...  TIMEOUT  302.880152   \n",
       "  \n",
       "        walltime       memory  \n",
       "  62  101.091229  1376.268288  ,\n",
       "                                          benchmarkfile result    cputime  \\\n",
       "  62  2017-Preiner-keymaera/bouncing-ball-simple-nod...  false  10.230867   \n",
       "  \n",
       "      walltime      memory  \n",
       "  62  3.886637  428.949504  ),\n",
       " (                                       benchmarkfile   result     cputime  \\\n",
       "  71  2017-Preiner-keymaera/dccs-example-node3897.smt2  TIMEOUT  303.021616   \n",
       "  \n",
       "        walltime       memory  \n",
       "  71  101.113663  1631.121408  ,\n",
       "                                         benchmarkfile result   cputime  \\\n",
       "  71  2017-Preiner-keymaera/dccs-example-node3897.smt2  false  3.042501   \n",
       "  \n",
       "      walltime      memory  \n",
       "  71  1.073665  222.507008  )]"
      ]
     },
     "execution_count": 18,
     "metadata": {},
     "output_type": "execute_result"
    }
   ],
   "source": [
    "removed_timeouts"
   ]
  },
  {
   "cell_type": "code",
   "execution_count": 19,
   "id": "ed9de84b",
   "metadata": {},
   "outputs": [],
   "source": [
    "def get_names(old_new_results : list):\n",
    "    f = open(\"new_timeouts.txt\", \"w\")\n",
    "    for (old, new) in old_new_results:\n",
    "        print(old)"
   ]
  },
  {
   "cell_type": "code",
   "execution_count": 20,
   "id": "c8e4d514",
   "metadata": {},
   "outputs": [
    {
     "name": "stdout",
     "output_type": "stream",
     "text": [
      "                                         benchmarkfile result   cputime  \\\n",
      "180  wintersteiger/fmsd13/ranking/ranking-network_u...  false  8.764648   \n",
      "\n",
      "     walltime      memory  \n",
      "180  3.260572  480.346112  \n",
      "                  benchmarkfile result  cputime  walltime      memory\n",
      "46  2017-Preiner-psyco/047.smt2   true  1.59085  1.214352  215.707648\n",
      "                  benchmarkfile result   cputime  walltime      memory\n",
      "47  2017-Preiner-psyco/048.smt2   true  1.479164  1.148471  172.965888\n",
      "                  benchmarkfile result   cputime  walltime      memory\n",
      "48  2017-Preiner-psyco/049.smt2   true  1.369246  1.148417  180.580352\n",
      "                  benchmarkfile result   cputime  walltime      memory\n",
      "90  2017-Preiner-psyco/091.smt2   true  1.168601  1.013849  161.738752\n",
      "                  benchmarkfile result   cputime  walltime      memory\n",
      "91  2017-Preiner-psyco/092.smt2   true  1.408569  1.103535  170.737664\n",
      "                  benchmarkfile result   cputime  walltime      memory\n",
      "92  2017-Preiner-psyco/093.smt2   true  1.561815  1.275905  171.667456\n",
      "                  benchmarkfile result   cputime  walltime      memory\n",
      "93  2017-Preiner-psyco/094.smt2   true  1.590469  1.262771  172.371968\n",
      "                   benchmarkfile result   cputime  walltime      memory\n",
      "135  2017-Preiner-psyco/136.smt2   true  2.167753  2.034438  133.312512\n"
     ]
    }
   ],
   "source": [
    "get_names(new_timeouts)"
   ]
  },
  {
   "cell_type": "code",
   "execution_count": 21,
   "id": "85684ab8",
   "metadata": {},
   "outputs": [
    {
     "data": {
      "text/plain": [
       "4"
      ]
     },
     "execution_count": 21,
     "metadata": {},
     "output_type": "execute_result"
    }
   ],
   "source": [
    "len(new_errors)"
   ]
  },
  {
   "cell_type": "code",
   "execution_count": 22,
   "id": "685ee099",
   "metadata": {},
   "outputs": [
    {
     "data": {
      "text/plain": [
       "30"
      ]
     },
     "execution_count": 22,
     "metadata": {},
     "output_type": "execute_result"
    }
   ],
   "source": [
    "len(removed_timeouts)"
   ]
  },
  {
   "cell_type": "code",
   "execution_count": 23,
   "id": "ac0b56c6",
   "metadata": {},
   "outputs": [
    {
     "data": {
      "text/plain": [
       "9"
      ]
     },
     "execution_count": 23,
     "metadata": {},
     "output_type": "execute_result"
    }
   ],
   "source": [
    "len(new_timeouts)"
   ]
  },
  {
   "cell_type": "code",
   "execution_count": 24,
   "id": "593208c0",
   "metadata": {},
   "outputs": [
    {
     "data": {
      "text/plain": [
       "0"
      ]
     },
     "execution_count": 24,
     "metadata": {},
     "output_type": "execute_result"
    }
   ],
   "source": [
    "len(mistakes)"
   ]
  },
  {
   "cell_type": "code",
   "execution_count": 25,
   "id": "88f7d4ef",
   "metadata": {},
   "outputs": [
    {
     "data": {
      "text/plain": [
       "[]"
      ]
     },
     "execution_count": 25,
     "metadata": {},
     "output_type": "execute_result"
    }
   ],
   "source": [
    "mistakes"
   ]
  }
 ],
 "metadata": {
  "kernelspec": {
   "display_name": "Python 3 (ipykernel)",
   "language": "python",
   "name": "python3"
  },
  "language_info": {
   "codemirror_mode": {
    "name": "ipython",
    "version": 3
   },
   "file_extension": ".py",
   "mimetype": "text/x-python",
   "name": "python",
   "nbconvert_exporter": "python",
   "pygments_lexer": "ipython3",
   "version": "3.10.12"
  }
 },
 "nbformat": 4,
 "nbformat_minor": 5
}
