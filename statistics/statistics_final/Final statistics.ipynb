{
 "cells": [
  {
   "cell_type": "code",
   "execution_count": 362,
   "id": "0510fa1e",
   "metadata": {},
   "outputs": [],
   "source": [
    "import pandas as pd\n",
    "import os\n",
    "import re\n",
    "import sys\n",
    "import matplotlib.pyplot as plt\n",
    "import numpy as np"
   ]
  },
  {
   "cell_type": "code",
   "execution_count": 363,
   "id": "90b8212f",
   "metadata": {},
   "outputs": [
    {
     "data": {
      "text/plain": [
       "'/var/tmp/vcloud-q3b/statistics_final'"
      ]
     },
     "execution_count": 363,
     "metadata": {},
     "output_type": "execute_result"
    }
   ],
   "source": [
    "sys.path.append('../statistics')\n",
    "from mylib import mylibrary as ml\n",
    "current_dir = !pwd\n",
    "current_dir = current_dir[0]\n",
    "current_dir"
   ]
  },
  {
   "cell_type": "code",
   "execution_count": 364,
   "id": "fb59f17b",
   "metadata": {},
   "outputs": [],
   "source": [
    "versions = {\"orig\" : \"/original\", \"none\":\"/approx_of_abstr_of/\",\"approx\" : \"/approx_on_abstr_of/\", \"abstr\":\"/approx_of_abstr_on/\", \"both\":\"/approx_on_abstr_on/\" }"
   ]
  },
  {
   "cell_type": "code",
   "execution_count": 425,
   "id": "26f2467d",
   "metadata": {},
   "outputs": [],
   "source": [
    "def merge_benchmark_families(adict):\n",
    "    benchmarks = ['2017-Preiner-UltimateAutomizer',\n",
    " '2017-Preiner-keymaera',\n",
    " '2017-Preiner-psyco',\n",
    " '2017-Preiner-scholl-smt08',\n",
    " '2017-Preiner-tptp',\n",
    " '20170501-Heizmann-UltimateAutomizer',\n",
    " '2018-Preiner-cav18',\n",
    " '20190429-UltimateAutomizerSvcomp2019',\n",
    " '2020-Preiner-fmcad20',\n",
    " '20210301-Alive2',\n",
    " '20210301-Alive2-partial-undef',\n",
    " '20230321-UltimateAutomizerSvcomp2023',\n",
    " 'llvm13-smtlib',\n",
    " 'wintersteiger']\n",
    "    return pd.concat([adict[x] for x in benchmarks], ignore_index=True)"
   ]
  },
  {
   "cell_type": "code",
   "execution_count": 426,
   "id": "b07859b4",
   "metadata": {},
   "outputs": [],
   "source": [
    "frames = {}\n",
    "\n",
    "for v in versions:\n",
    "    frames[v] = merge_benchmark_families(ml.dict_to_df(ml.get_data( ml.get_csv(current_dir+versions[v]))))"
   ]
  },
  {
   "cell_type": "markdown",
   "id": "7fb485b2",
   "metadata": {},
   "source": [
    "# Get set of benchmarks that fail (not in my parts of code)"
   ]
  },
  {
   "cell_type": "code",
   "execution_count": 428,
   "id": "ac77a23d",
   "metadata": {},
   "outputs": [],
   "source": [
    "def get_failing_benchmarks(df):\n",
    "    failig_benchmarks = df[~df['result'].isin(['true', 'false', 'TIMEOUT'])]\n",
    "    return set(failig_benchmarks['benchmarkfile'])"
   ]
  },
  {
   "cell_type": "code",
   "execution_count": 429,
   "id": "df6cdfbc",
   "metadata": {},
   "outputs": [],
   "source": [
    "def get_fails(frames):\n",
    "    fail = set()\n",
    "    for df in frames.values():\n",
    "        fail = fail.union(get_failing_benchmarks(df))\n",
    "    return fail"
   ]
  },
  {
   "cell_type": "code",
   "execution_count": 447,
   "id": "9b9ae435",
   "metadata": {},
   "outputs": [
    {
     "data": {
      "text/plain": [
       "33"
      ]
     },
     "execution_count": 447,
     "metadata": {},
     "output_type": "execute_result"
    }
   ],
   "source": [
    "fails = get_fails(frames)\n",
    "len(fails)\n"
   ]
  },
  {
   "cell_type": "code",
   "execution_count": 431,
   "id": "c5acfbcc",
   "metadata": {},
   "outputs": [],
   "source": [
    "def get_num_of_benchmarks(adict):\n",
    "    counter = 0\n",
    "    for df in adict.values():\n",
    "        counter += df.shape[0]\n",
    "    return counter"
   ]
  },
  {
   "cell_type": "code",
   "execution_count": 434,
   "id": "b45c22d7",
   "metadata": {},
   "outputs": [],
   "source": [
    "def remove_fails_from_df(df, fails):\n",
    "    return df[~df['benchmarkfile'].isin(fails)]"
   ]
  },
  {
   "cell_type": "code",
   "execution_count": 435,
   "id": "40c1f2b3",
   "metadata": {},
   "outputs": [],
   "source": [
    "def remove_fails_form_dict(benchm_dict, fails):\n",
    "    for benchname in benchm_dict:\n",
    "        benchm_dict[benchname] = remove_fails_from_df(benchm_dict[benchname], fails)\n",
    "    return benchm_dict"
   ]
  },
  {
   "cell_type": "code",
   "execution_count": 436,
   "id": "92bc912f",
   "metadata": {},
   "outputs": [
    {
     "data": {
      "text/plain": [
       "6125"
      ]
     },
     "execution_count": 436,
     "metadata": {},
     "output_type": "execute_result"
    }
   ],
   "source": [
    "get_num_of_benchmarks(remove_fails_form_dict(benchm_dict, fails))"
   ]
  },
  {
   "cell_type": "code",
   "execution_count": 437,
   "id": "2608803e",
   "metadata": {},
   "outputs": [],
   "source": [
    "def get_df(path):\n",
    "    csv = ml.get_csv(path)\n",
    "    df = ml.dict_to_df(ml.get_data(csv))\n",
    "    fails = get_fails(frames)\n",
    "    df = remove_fails_form_dict(df, fails)\n",
    "    sumdata = ml.sum_data(df)\n",
    "    timedata = ml.time_data(df)\n",
    "    sumdata = sumdata.reindex(sorted(sumdata.columns), axis=1)\n",
    "    timedata = timedata.reindex(sorted(timedata.columns), axis=1)\n",
    "    #sumdata = sumdata.drop(['sat', 'unsat', 'segfault', 'other', 'timeout']).T\n",
    "    return sumdata, timedata\n",
    "    "
   ]
  },
  {
   "cell_type": "code",
   "execution_count": 438,
   "id": "37f3c4b2",
   "metadata": {},
   "outputs": [],
   "source": [
    "sums = []\n",
    "for v in versions:\n",
    "    sumdata = get_df(current_dir+versions[v])[0]\n",
    "    sumdata = sumdata.drop(['sat', 'unsat', 'segfault', 'other', 'timeout']).T.rename(columns={\"solved\": v})\n",
    "    sums.append(sumdata)"
   ]
  },
  {
   "cell_type": "markdown",
   "id": "40c4bea0",
   "metadata": {},
   "source": [
    "# Join"
   ]
  },
  {
   "cell_type": "code",
   "execution_count": 439,
   "id": "65bd2f72",
   "metadata": {},
   "outputs": [],
   "source": [
    "merged = orig_sum_solved\n",
    "for df in sums:\n",
    "    merged = pd.merge(merged, df, left_index=True, right_index=True, suffixes=('', '_2'))\n",
    "    \n",
    "cols_to_drop = [col for col in merged.columns if col.endswith('_2')]\n",
    "\n",
    "# Drop these columns\n",
    "merged.drop(cols_to_drop, axis=1, inplace=True)"
   ]
  },
  {
   "cell_type": "code",
   "execution_count": 440,
   "id": "19c8784c",
   "metadata": {},
   "outputs": [
    {
     "data": {
      "text/plain": [
       "total     6125\n",
       "orig      5834\n",
       "none      5832\n",
       "approx    5859\n",
       "abstr     5830\n",
       "both      5857\n",
       "dtype: int64"
      ]
     },
     "execution_count": 440,
     "metadata": {},
     "output_type": "execute_result"
    }
   ],
   "source": [
    "total_row = merged.sum()\n",
    "total_row"
   ]
  },
  {
   "cell_type": "code",
   "execution_count": 460,
   "id": "1db59b86",
   "metadata": {},
   "outputs": [
    {
     "data": {
      "text/html": [
       "<div>\n",
       "<style scoped>\n",
       "    .dataframe tbody tr th:only-of-type {\n",
       "        vertical-align: middle;\n",
       "    }\n",
       "\n",
       "    .dataframe tbody tr th {\n",
       "        vertical-align: top;\n",
       "    }\n",
       "\n",
       "    .dataframe thead th {\n",
       "        text-align: right;\n",
       "    }\n",
       "</style>\n",
       "<table border=\"1\" class=\"dataframe\">\n",
       "  <thead>\n",
       "    <tr style=\"text-align: right;\">\n",
       "      <th></th>\n",
       "      <th>total</th>\n",
       "      <th>orig</th>\n",
       "      <th>none</th>\n",
       "      <th>approx</th>\n",
       "      <th>abstr</th>\n",
       "      <th>both</th>\n",
       "    </tr>\n",
       "  </thead>\n",
       "  <tbody>\n",
       "    <tr>\n",
       "      <th>2017-Preiner-UltimateAutomizer</th>\n",
       "      <td>153</td>\n",
       "      <td>153</td>\n",
       "      <td>153</td>\n",
       "      <td>153</td>\n",
       "      <td>153</td>\n",
       "      <td>153</td>\n",
       "    </tr>\n",
       "    <tr>\n",
       "      <th>2017-Preiner-keymaera</th>\n",
       "      <td>4035</td>\n",
       "      <td>4008</td>\n",
       "      <td>4010</td>\n",
       "      <td>4010</td>\n",
       "      <td>4009</td>\n",
       "      <td>4010</td>\n",
       "    </tr>\n",
       "    <tr>\n",
       "      <th>2017-Preiner-psyco</th>\n",
       "      <td>194</td>\n",
       "      <td>151</td>\n",
       "      <td>152</td>\n",
       "      <td>152</td>\n",
       "      <td>152</td>\n",
       "      <td>152</td>\n",
       "    </tr>\n",
       "    <tr>\n",
       "      <th>2017-Preiner-scholl-smt08</th>\n",
       "      <td>356</td>\n",
       "      <td>287</td>\n",
       "      <td>287</td>\n",
       "      <td>287</td>\n",
       "      <td>286</td>\n",
       "      <td>286</td>\n",
       "    </tr>\n",
       "    <tr>\n",
       "      <th>2017-Preiner-tptp</th>\n",
       "      <td>73</td>\n",
       "      <td>73</td>\n",
       "      <td>73</td>\n",
       "      <td>73</td>\n",
       "      <td>73</td>\n",
       "      <td>73</td>\n",
       "    </tr>\n",
       "    <tr>\n",
       "      <th>20170501-Heizmann-UltimateAutomizer</th>\n",
       "      <td>127</td>\n",
       "      <td>110</td>\n",
       "      <td>109</td>\n",
       "      <td>109</td>\n",
       "      <td>109</td>\n",
       "      <td>109</td>\n",
       "    </tr>\n",
       "    <tr>\n",
       "      <th>2018-Preiner-cav18</th>\n",
       "      <td>600</td>\n",
       "      <td>563</td>\n",
       "      <td>563</td>\n",
       "      <td>563</td>\n",
       "      <td>563</td>\n",
       "      <td>563</td>\n",
       "    </tr>\n",
       "    <tr>\n",
       "      <th>20190429-UltimateAutomizerSvcomp2019</th>\n",
       "      <td>96</td>\n",
       "      <td>86</td>\n",
       "      <td>86</td>\n",
       "      <td>86</td>\n",
       "      <td>86</td>\n",
       "      <td>86</td>\n",
       "    </tr>\n",
       "    <tr>\n",
       "      <th>2020-Preiner-fmcad20</th>\n",
       "      <td>165</td>\n",
       "      <td>128</td>\n",
       "      <td>127</td>\n",
       "      <td>128</td>\n",
       "      <td>129</td>\n",
       "      <td>127</td>\n",
       "    </tr>\n",
       "    <tr>\n",
       "      <th>20210301-Alive2</th>\n",
       "      <td>1</td>\n",
       "      <td>0</td>\n",
       "      <td>0</td>\n",
       "      <td>0</td>\n",
       "      <td>0</td>\n",
       "      <td>0</td>\n",
       "    </tr>\n",
       "    <tr>\n",
       "      <th>20210301-Alive2-partial-undef</th>\n",
       "      <td>3</td>\n",
       "      <td>1</td>\n",
       "      <td>1</td>\n",
       "      <td>1</td>\n",
       "      <td>1</td>\n",
       "      <td>1</td>\n",
       "    </tr>\n",
       "    <tr>\n",
       "      <th>20230321-UltimateAutomizerSvcomp2023</th>\n",
       "      <td>140</td>\n",
       "      <td>107</td>\n",
       "      <td>107</td>\n",
       "      <td>135</td>\n",
       "      <td>107</td>\n",
       "      <td>135</td>\n",
       "    </tr>\n",
       "    <tr>\n",
       "      <th>llvm13-smtlib</th>\n",
       "      <td>9</td>\n",
       "      <td>1</td>\n",
       "      <td>1</td>\n",
       "      <td>1</td>\n",
       "      <td>1</td>\n",
       "      <td>1</td>\n",
       "    </tr>\n",
       "    <tr>\n",
       "      <th>wintersteiger</th>\n",
       "      <td>173</td>\n",
       "      <td>166</td>\n",
       "      <td>163</td>\n",
       "      <td>161</td>\n",
       "      <td>161</td>\n",
       "      <td>161</td>\n",
       "    </tr>\n",
       "    <tr>\n",
       "      <th>Total</th>\n",
       "      <td>6125</td>\n",
       "      <td>5834</td>\n",
       "      <td>5832</td>\n",
       "      <td>5859</td>\n",
       "      <td>5830</td>\n",
       "      <td>5857</td>\n",
       "    </tr>\n",
       "  </tbody>\n",
       "</table>\n",
       "</div>"
      ],
      "text/plain": [
       "                                      total  orig  none  approx  abstr  both\n",
       "2017-Preiner-UltimateAutomizer          153   153   153     153    153   153\n",
       "2017-Preiner-keymaera                  4035  4008  4010    4010   4009  4010\n",
       "2017-Preiner-psyco                      194   151   152     152    152   152\n",
       "2017-Preiner-scholl-smt08               356   287   287     287    286   286\n",
       "2017-Preiner-tptp                        73    73    73      73     73    73\n",
       "20170501-Heizmann-UltimateAutomizer     127   110   109     109    109   109\n",
       "2018-Preiner-cav18                      600   563   563     563    563   563\n",
       "20190429-UltimateAutomizerSvcomp2019     96    86    86      86     86    86\n",
       "2020-Preiner-fmcad20                    165   128   127     128    129   127\n",
       "20210301-Alive2                           1     0     0       0      0     0\n",
       "20210301-Alive2-partial-undef             3     1     1       1      1     1\n",
       "20230321-UltimateAutomizerSvcomp2023    140   107   107     135    107   135\n",
       "llvm13-smtlib                             9     1     1       1      1     1\n",
       "wintersteiger                           173   166   163     161    161   161\n",
       "Total                                  6125  5834  5832    5859   5830  5857"
      ]
     },
     "execution_count": 460,
     "metadata": {},
     "output_type": "execute_result"
    }
   ],
   "source": [
    "merged.loc['Total'] = total_row\n",
    "ml.write_to_file(\"/home/xschwar3/dp/statistics/comparison.tex\", merged.to_latex())\n",
    "merged"
   ]
  },
  {
   "cell_type": "markdown",
   "id": "dada0ff2",
   "metadata": {},
   "source": [
    "# CPU time comparison"
   ]
  },
  {
   "cell_type": "code",
   "execution_count": 473,
   "id": "800a8f64",
   "metadata": {},
   "outputs": [],
   "source": [
    "def create_time_comparison(version1, version2, current_dir):\n",
    "    \n",
    "    adict1 = ml.dict_to_df(ml.get_data( ml.get_csv(current_dir + versions[version1])))\n",
    "    adict2 = ml.dict_to_df(ml.get_data( ml.get_csv(current_dir+versions[version2])))\n",
    "    \n",
    "    fails = get_fails(frames)\n",
    "    adict1 = remove_fails_form_dict(adict1, fails)\n",
    "    adict2 = remove_fails_form_dict(adict2, fails)\n",
    "    df1 = merge_benchmark_families(adict1)\n",
    "    df2 = merge_benchmark_families(adict2)\n",
    "    df2 = df2[df2['result'].isin(['true', 'false', 'TIMEOUT'])]\n",
    "    df1 = df1[df1['result'].isin(['true', 'false', 'TIMEOUT'])]\n",
    "    intersection_df = pd.merge(df1, df2, on='benchmarkfile', how='inner')\n",
    "    return intersection_df\n",
    "    \n",
    "    \n"
   ]
  },
  {
   "cell_type": "code",
   "execution_count": 474,
   "id": "f87a919b",
   "metadata": {},
   "outputs": [],
   "source": [
    "def show_plot(df, column, filename):\n",
    "    # Data\n",
    "    x = df[column+\"_x\"]\n",
    "    y = df[column+\"_y\"]\n",
    "    \n",
    "    \n",
    "    print(len(x))\n",
    "    print(len(y))\n",
    "    ref_line = [i for i in range(0, 1000)]  # Reference line (y=x)\n",
    "\n",
    "    # Scatter plot\n",
    "    plt.scatter(x, y, label='Data points')\n",
    "\n",
    "    \n",
    "    \n",
    "    \n",
    "    if column == \"cputime\":\n",
    "        ref_line = [i for i in range(0, 300)]  # Reference line (y=x)\n",
    "        # Add red vertical and horizontal lines at x=300 and y=300\n",
    "        plt.axvline(x=300,color='red', linestyle='--',linewidth=0.5)\n",
    "        plt.axhline(y=300, color='red', linestyle='--', linewidth=0.5)\n",
    "\n",
    "        # Change tick labels on x-axis and y-axis at point 300 to \"timelimit\"\n",
    "        plt.xticks([300], ['timelimit'])\n",
    "        plt.yticks([300], ['timelimit'])\n",
    "        \n",
    "    \n",
    "    \n",
    "    plt.xlabel('original Q3B')\n",
    "    plt.ylabel('Q3B -- approx on, abstr of')\n",
    "    plt.title('CPU time comparison')\n",
    "    \n",
    "    \n",
    "    # Set scale to logarithmic\n",
    "    plt.xscale('log')\n",
    "    plt.yscale('log')\n",
    "    # Reference line\n",
    "    plt.plot(ref_line, ref_line, label='Reference line', color='red', linestyle='-')\n",
    "\n",
    "    plt.grid(True)\n",
    "    plt.savefig(filename+\".pdf\", format=\"pdf\", bbox_inches=\"tight\")\n",
    "    #plt.show()\n",
    "    return plt"
   ]
  },
  {
   "cell_type": "code",
   "execution_count": 475,
   "id": "8ddb8928",
   "metadata": {},
   "outputs": [
    {
     "name": "stdout",
     "output_type": "stream",
     "text": [
      "6125\n",
      "6125\n"
     ]
    },
    {
     "data": {
      "image/png": "[encoded data removed]",
      "text/plain": [
       "<Figure size 432x288 with 1 Axes>"
      ]
     },
     "metadata": {
      "needs_background": "light"
     },
     "output_type": "display_data"
    }
   ],
   "source": [
    "plt = show_plot(create_time_comparison('orig', 'approx', current_dir), 'cputime', 'orig-approx')"
   ]
  },
  {
   "cell_type": "markdown",
   "id": "d05a6bc0",
   "metadata": {},
   "source": [
    "# Cross comparison"
   ]
  },
  {
   "cell_type": "code",
   "execution_count": 476,
   "id": "7d6983e0",
   "metadata": {},
   "outputs": [],
   "source": [
    "def uniquely_solved(df1, df2):\n",
    "    solved1 = df1[df1['result'].isin(['true', 'false'])] # ty co vyresil levej\n",
    "    unsolved2 = df2[~df2['result'].isin(['true', 'false'])]\n",
    "    intersection_df = pd.merge(solved1, unsolved2, on='benchmarkfile', how='inner')\n",
    "    return intersection_df.shape[0]"
   ]
  },
  {
   "cell_type": "code",
   "execution_count": 477,
   "id": "3f02d5a1",
   "metadata": {},
   "outputs": [],
   "source": [
    "data = {}\n",
    "for s1 in versions:\n",
    "    data[s1] = []\n",
    "    for s2 in versions:\n",
    "        adict1 = ml.dict_to_df(ml.get_data( ml.get_csv(current_dir + versions[s1])))\n",
    "        adict2 = ml.dict_to_df(ml.get_data( ml.get_csv(current_dir+versions[s2])))\n",
    "        fails = get_fails(frames)\n",
    "        adict1 = remove_fails_form_dict(adict1, fails)\n",
    "        adict2 = remove_fails_form_dict(adict2, fails)\n",
    "        df1 = merge_benchmark_families(adict1)\n",
    "        df2 = merge_benchmark_families(adict2)\n",
    "        data[s1].append(uniquely_solved(df1, df2))\n"
   ]
  },
  {
   "cell_type": "code",
   "execution_count": 481,
   "id": "9d4fbcb8",
   "metadata": {},
   "outputs": [],
   "source": [
    "labels = list(versions.keys())\n",
    "df = pd.DataFrame(data, index=labels,dtype=object)\n",
    "np.fill_diagonal(df.values, \"x\")\n",
    "cross_comparison = df.T"
   ]
  },
  {
   "cell_type": "code",
   "execution_count": 482,
   "id": "4bc16ff1",
   "metadata": {},
   "outputs": [],
   "source": [
    "ml.write_to_file(\"/home/xschwar3/dp/statistics/cross_comparison.tex\", cross_comparison.to_latex())\n"
   ]
  },
  {
   "cell_type": "code",
   "execution_count": null,
   "id": "0efae8c5",
   "metadata": {},
   "outputs": [],
   "source": []
  }
 ],
 "metadata": {
  "kernelspec": {
   "display_name": "Python 3 (ipykernel)",
   "language": "python",
   "name": "python3"
  },
  "language_info": {
   "codemirror_mode": {
    "name": "ipython",
    "version": 3
   },
   "file_extension": ".py",
   "mimetype": "text/x-python",
   "name": "python",
   "nbconvert_exporter": "python",
   "pygments_lexer": "ipython3",
   "version": "3.10.12"
  }
 },
 "nbformat": 4,
 "nbformat_minor": 5
}
