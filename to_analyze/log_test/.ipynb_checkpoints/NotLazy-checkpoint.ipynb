{
 "cells": [
  {
   "cell_type": "code",
   "execution_count": 1,
   "id": "0510fa1e",
   "metadata": {},
   "outputs": [],
   "source": [
    "import pandas as pd\n",
    "import os\n",
    "import re\n",
    "import sys\n",
    "import matplotlib.pyplot as plt"
   ]
  },
  {
   "cell_type": "code",
   "execution_count": 2,
   "id": "90b8212f",
   "metadata": {},
   "outputs": [],
   "source": [
    "sys.path.append('..')\n",
    "from mylib import mylibrary as ml"
   ]
  },
  {
   "cell_type": "code",
   "execution_count": 9,
   "id": "127646d5",
   "metadata": {},
   "outputs": [],
   "source": [
    "def create_sum_time_comparison(path, name):\n",
    "    csv = get_csv(path)\n",
    "    df = dict_to_df(get_data(csv))\n",
    "    sumdata = sum_data(df)\n",
    "    timedata = time_data(df)\n",
    "    sumdata = sumdata.reindex(sorted(sumdata.columns), axis=1)\n",
    "    timedata = timedata.reindex(sorted(timedata.columns), axis=1)\n",
    "    return sumdata, timedata\n",
    "    \n",
    "def intersection_columns(df1, df2):\n",
    "    common_columns = df1.columns.intersection(df2.columns)\n",
    "    return df1[common_columns], df2[common_columns]\n",
    "    \n",
    "def copmare_dfs(path1, name1,path2, name2):\n",
    "    sumdata1, timedata1 = create_sum_time_comparison(path1, name1)\n",
    "    sumdata2, timedata2 = create_sum_time_comparison(path2, name2)\n",
    "    sumdata1,sumdata2 = intersection_columns(sumdata1,sumdata2)\n",
    "    timedata1, timedata2 = intersection_columns(timedata1,timedata2)\n",
    "    sum_comparison = sumdata1.compare(sumdata2, align_axis=1, keep_shape=True, keep_equal=True, result_names = (name1, name2))\n",
    "    time_comparison = timedata1.compare(timedata2,align_axis=1, keep_shape=True, keep_equal=True, result_names = (name1, name2))\n",
    "    sum_comparison = sum_comparison.style.apply(highlight_greater, axis=1)\n",
    "    time_comparison = time_comparison.style.apply(highlight_smaller, axis=1)\n",
    "    return sum_comparison,time_comparison\n",
    "    "
   ]
  },
  {
   "cell_type": "code",
   "execution_count": 13,
   "id": "31889ea3",
   "metadata": {},
   "outputs": [],
   "source": [
    "def detect_delimiter(filename, num_lines=10):\n",
    "    \"\"\"Detects the delimiter of a CSV file by reading the first few lines.\"\"\"\n",
    "    with open(filename, 'r') as file:\n",
    "        lines = file.readlines(num_lines)\n",
    "        # Check for common delimiters in the first line\n",
    "        possible_delimiters = [',', '\\t', ';', '|']\n",
    "        delimiter_count = {delim: lines[0].count(delim) for delim in possible_delimiters}\n",
    "        # Assume the delimiter is the one that occurs most frequently in the first line\n",
    "        delimiter = max(delimiter_count, key=delimiter_count.get)\n",
    "        if delimiter_count[delimiter] > 0:\n",
    "            return delimiter\n",
    "        else:\n",
    "            raise ValueError(\"Unable to detect a delimiter.\")\n",
    "            \n",
    "def get_csv(current_dir):\n",
    "    csv_re = re.compile(\"(.*.csv)$\")\n",
    "    for root, dirs, files in os.walk(current_dir + \"/results\"):\n",
    "        for file in files:\n",
    "            if csv_re.match(file):\n",
    "                delimeter = detect_delimiter(current_dir + \"/results/\" + file)\n",
    "                csv = pd.read_csv(current_dir + \"/results/\" + file, sep=delimeter)\n",
    "                return csv\n",
    "            \n",
    "\n",
    "def all_same_length(a_dict):\n",
    "    it = iter(list(a_dict.values()))\n",
    "    the_len = len(next(it))\n",
    "    if not all(len(alist) == the_len for alist in it):\n",
    "        return False\n",
    "    return True\n",
    "\n",
    "\n",
    "\n",
    "def get_data(csv):\n",
    "    \"\"\"\n",
    "        Creates dict {benchmark_set : {benchmark_file : [--list of names of benchmak files], \n",
    "                                        cpu_time : [--list of times of cpu--],\n",
    "                                        walltime : [--]list of wall times--],\n",
    "                                        memory : [--list of memory consumptions--]}}\n",
    "    \"\"\"\n",
    "    benchmark_data = {}\n",
    "    \n",
    "    for num, row in csv.iterrows():\n",
    "        if num <= 1:\n",
    "            continue\n",
    "        benchmark_set_name = get_benchmark_set_name(row)\n",
    "        \n",
    "        if benchmark_set_name not in benchmark_data:\n",
    "            header = {\n",
    "                \"benchmarkfile\" : [],\n",
    "                \"result\" : [],\n",
    "                \"cputime\" : [],\n",
    "                \"walltime\" : [],\n",
    "                \"memory\" : []\n",
    "            }\n",
    "            benchmark_data[benchmark_set_name] = header\n",
    "        \n",
    "        benchmark_data[benchmark_set_name][\"benchmarkfile\"].append(row[\"tool\"])\n",
    "        benchmark_data[benchmark_set_name][\"result\"].append(row[\"q3b Q3B version 1.1-dev\"])\n",
    "        benchmark_data[benchmark_set_name][\"cputime\"].append(float(row[\"q3b Q3B version 1.1-dev.1\"]))\n",
    "        benchmark_data[benchmark_set_name][\"walltime\"].append(float(row[\"q3b Q3B version 1.1-dev.2\"]))\n",
    "        benchmark_data[benchmark_set_name][\"memory\"].append(float(row[\"q3b Q3B version 1.1-dev.3\"]))\n",
    "        assert(all_same_length(benchmark_data[benchmark_set_name]))\n",
    "    \n",
    "    \n",
    "    return benchmark_data\n",
    "        \n",
    "       \n",
    "def dict_to_df(bench_data):\n",
    "    \"\"\"\n",
    "        Creates dict {benchmark_set : dataframe}\n",
    "    \"\"\"\n",
    "    \n",
    "    return dict(map(lambda item: (item[0], pd.DataFrame(data = item[1])), bench_data.items()))\n",
    "\n",
    "def sum_data(benchmark_data):\n",
    "    sumdata = {}\n",
    "    for benchmark_set, bench_df in benchmark_data.items():\n",
    "        header = {\n",
    "            \"total\" : len(bench_df),\n",
    "            \"unsat\" : len(get_df(bench_df, \"false\")),\n",
    "            \"sat\" : len(get_df(bench_df, \"true\")),\n",
    "            \"solved\" : len(get_df(bench_df, \"true\")) + len(get_df(bench_df, \"false\")),\n",
    "            \"timeout\" : len(get_df(bench_df, \"TIMEOUT\")),\n",
    "            \"segfault\" : len(get_df(bench_df, \"SEGFAULT\")),\n",
    "            \"other\" : len(get_df(bench_df, \"others\"))\n",
    "        }\n",
    "        #print(bench_df.result)\n",
    "        sumdata[benchmark_set] = header\n",
    "    return pd.DataFrame(data = sumdata)\n",
    "        \n",
    "\n",
    "\n",
    "def get_count(df):\n",
    "    return 1 if len(df) == 0 else len(df)\n",
    "\n",
    "def get_df(bench_df, result):\n",
    "    if result == \"others\":\n",
    "        return bench_df[(bench_df.result != \"TIMEOUT\") & (bench_df.result != \"true\")  & (bench_df.result != \"false\") & (bench_df.result != \"SEGFAULT\")]\n",
    "        \n",
    "    return bench_df[bench_df.result == result]\n",
    "\n",
    "def time_data(benchmark_data):\n",
    "    sumdata = {}\n",
    "    for benchmark_set, bench_df in benchmark_data.items():\n",
    "        sat_df = get_df(bench_df, \"true\")\n",
    "        unsat_df = get_df(bench_df, \"false\")\n",
    "        timeout_df = get_df(bench_df, \"TIMEOUT\")\n",
    "        segfault_df = get_df(bench_df, \"SEGFAULT\")\n",
    "        others_df = get_df(bench_df, \"others\")\n",
    "        \n",
    "        \n",
    "        header = {\n",
    "            \"total\" : bench_df['cputime'].sum(),\n",
    "            \n",
    "            \"sat total\" : sat_df['cputime'].sum(),\n",
    "            \"unsat total\" : unsat_df['cputime'].sum(),\n",
    "            \"timeout total\" : timeout_df['cputime'].sum(),\n",
    "            \"segfault total\" : segfault_df['cputime'].sum(), \n",
    "            \"other total\" : others_df['cputime'].sum(),\n",
    "            \"average\" : bench_df['cputime'].sum() / len(bench_df) ,\n",
    "            \"sat average\" : sat_df['cputime'].sum() / get_count(sat_df) ,\n",
    "            \"unsat average\" : unsat_df['cputime'].sum() / get_count(unsat_df) ,\n",
    "            \"timeout average\" : timeout_df['cputime'].sum() / get_count(timeout_df) ,\n",
    "            \"segfault average\" : segfault_df['cputime'].sum() / get_count(segfault_df) ,\n",
    "            \"others average\" : others_df['cputime'].sum() / get_count(others_df) ,\n",
    "        }\n",
    "        sumdata[benchmark_set] = header\n",
    "        \n",
    "    return pd.DataFrame(sumdata)\n",
    "\n",
    "\n",
    "def highlight(row, c1, c2):\n",
    "    bckg = 'background-color'\n",
    "    w = 'white'\n",
    "\n",
    "    background = []\n",
    "    i = 0\n",
    "    while (i < len(row) - 1):\n",
    "        if row.iloc[i] < row.iloc[i + 1]:\n",
    "            background.append(f'{bckg}: {c1}')\n",
    "            background.append(f'{bckg}: {c1}')\n",
    "        elif row.iloc[i] > row.iloc[i + 1]:\n",
    "            background.append(f'{bckg}: {c2}')\n",
    "            background.append(f'{bckg}: {c2}')\n",
    "        else:\n",
    "            background.append(f'{bckg}: {w}')\n",
    "            background.append(f'{bckg}: {w}')\n",
    "        i += 2\n",
    "\n",
    "    return background\n",
    "\n",
    "def highlight_greater(row):\n",
    "    return highlight(row, 'lightblue', 'pink')\n",
    "\n",
    "def highlight_smaller(row):\n",
    "    return highlight(row, 'pink', 'lightblue')\n",
    "\n",
    "    \n",
    "def is_error(result):\n",
    "    non_error = ['false', 'true', 'TIMEOUT']\n",
    "    return not(result in non_error)\n",
    "    \n",
    "def is_mistake(orig_res, new_res):\n",
    "    if orig_res == \"true\" and new_res == \"false\":\n",
    "        return True\n",
    "    if orig_res == \"false\" and new_res == \"true\":\n",
    "        return True\n",
    "    return False\n",
    "    \n",
    "    \n",
    "def append_dfs(alist, orig_df, new_df, name):\n",
    "    # filters orig and new to be only with particular name and adds it as a tuple to alist\n",
    "    filt_orig = orig_df[orig_df['benchmarkfile'] == name]\n",
    "    filt_new = new_df[new_df['benchmarkfile'] == name]\n",
    "    alist.append((filt_orig, filt_new))\n",
    "    "
   ]
  },
  {
   "cell_type": "code",
   "execution_count": 14,
   "id": "e5e77fab",
   "metadata": {},
   "outputs": [],
   "source": [
    "def get_benchmark_set_name(row):\n",
    "    bench_path = row['tool']\n",
    "    #benchmarkname_re = re.compile(\"^([^/]*)/.*smt2$\")\n",
    "    benchmarkname_re = re.compile(\"^.*smt2$\")\n",
    "    benchmark_match = benchmarkname_re.match(bench_path)\n",
    "    if benchmark_match:\n",
    "        return benchmark_match.group(1)\n",
    "    assert(False)\n"
   ]
  },
  {
   "cell_type": "code",
   "execution_count": null,
   "id": "14bcafc4",
   "metadata": {},
   "outputs": [],
   "source": []
  },
  {
   "cell_type": "code",
   "execution_count": null,
   "id": "1d0c121d",
   "metadata": {},
   "outputs": [],
   "source": []
  },
  {
   "cell_type": "code",
   "execution_count": null,
   "id": "09b37879",
   "metadata": {},
   "outputs": [],
   "source": []
  },
  {
   "cell_type": "markdown",
   "id": "3291dee2",
   "metadata": {},
   "source": [
    "# Original data"
   ]
  },
  {
   "cell_type": "code",
   "execution_count": 3,
   "id": "165506bf",
   "metadata": {},
   "outputs": [
    {
     "data": {
      "text/plain": [
       "'/var/tmp/vcloud-q3b/statistics/log_test/../initial2'"
      ]
     },
     "execution_count": 3,
     "metadata": {},
     "output_type": "execute_result"
    }
   ],
   "source": [
    "orig_dir = ! pwd\n",
    "orig_dir= orig_dir[0] + \"/../initial2\"\n",
    "orig_dir"
   ]
  },
  {
   "cell_type": "markdown",
   "id": "20ca31a0",
   "metadata": {},
   "source": [
    "# NotLazy data"
   ]
  },
  {
   "cell_type": "code",
   "execution_count": 4,
   "id": "6cf204c5",
   "metadata": {},
   "outputs": [
    {
     "data": {
      "text/plain": [
       "['/var/tmp/vcloud-q3b/statistics/log_test']"
      ]
     },
     "execution_count": 4,
     "metadata": {},
     "output_type": "execute_result"
    }
   ],
   "source": [
    "current_dir = ! pwd\n",
    "current_dir"
   ]
  },
  {
   "cell_type": "code",
   "execution_count": 12,
   "id": "5b6ff474",
   "metadata": {},
   "outputs": [
    {
     "ename": "AssertionError",
     "evalue": "",
     "output_type": "error",
     "traceback": [
      "\u001b[0;31m---------------------------------------------------------------------------\u001b[0m",
      "\u001b[0;31mAssertionError\u001b[0m                            Traceback (most recent call last)",
      "\u001b[0;32m/tmp/ipykernel_1305574/1979842050.py\u001b[0m in \u001b[0;36m<module>\u001b[0;34m\u001b[0m\n\u001b[0;32m----> 1\u001b[0;31m \u001b[0msumcompare\u001b[0m\u001b[0;34m,\u001b[0m \u001b[0mtimecompare\u001b[0m \u001b[0;34m=\u001b[0m \u001b[0mcopmare_dfs\u001b[0m\u001b[0;34m(\u001b[0m\u001b[0morig_dir\u001b[0m\u001b[0;34m,\u001b[0m \u001b[0;34m\"orig\"\u001b[0m\u001b[0;34m,\u001b[0m \u001b[0mcurrent_dir\u001b[0m\u001b[0;34m[\u001b[0m\u001b[0;36m0\u001b[0m\u001b[0;34m]\u001b[0m\u001b[0;34m,\u001b[0m \u001b[0;34m\"not lazy cached\"\u001b[0m\u001b[0;34m)\u001b[0m\u001b[0;34m\u001b[0m\u001b[0;34m\u001b[0m\u001b[0m\n\u001b[0m",
      "\u001b[0;32m/tmp/ipykernel_1305574/1848443989.py\u001b[0m in \u001b[0;36mcopmare_dfs\u001b[0;34m(path1, name1, path2, name2)\u001b[0m\n\u001b[1;32m     14\u001b[0m \u001b[0;32mdef\u001b[0m \u001b[0mcopmare_dfs\u001b[0m\u001b[0;34m(\u001b[0m\u001b[0mpath1\u001b[0m\u001b[0;34m,\u001b[0m \u001b[0mname1\u001b[0m\u001b[0;34m,\u001b[0m\u001b[0mpath2\u001b[0m\u001b[0;34m,\u001b[0m \u001b[0mname2\u001b[0m\u001b[0;34m)\u001b[0m\u001b[0;34m:\u001b[0m\u001b[0;34m\u001b[0m\u001b[0;34m\u001b[0m\u001b[0m\n\u001b[1;32m     15\u001b[0m     \u001b[0msumdata1\u001b[0m\u001b[0;34m,\u001b[0m \u001b[0mtimedata1\u001b[0m \u001b[0;34m=\u001b[0m \u001b[0mcreate_sum_time_comparison\u001b[0m\u001b[0;34m(\u001b[0m\u001b[0mpath1\u001b[0m\u001b[0;34m,\u001b[0m \u001b[0mname1\u001b[0m\u001b[0;34m)\u001b[0m\u001b[0;34m\u001b[0m\u001b[0;34m\u001b[0m\u001b[0m\n\u001b[0;32m---> 16\u001b[0;31m     \u001b[0msumdata2\u001b[0m\u001b[0;34m,\u001b[0m \u001b[0mtimedata2\u001b[0m \u001b[0;34m=\u001b[0m \u001b[0mcreate_sum_time_comparison\u001b[0m\u001b[0;34m(\u001b[0m\u001b[0mpath2\u001b[0m\u001b[0;34m,\u001b[0m \u001b[0mname2\u001b[0m\u001b[0;34m)\u001b[0m\u001b[0;34m\u001b[0m\u001b[0;34m\u001b[0m\u001b[0m\n\u001b[0m\u001b[1;32m     17\u001b[0m     \u001b[0msumdata1\u001b[0m\u001b[0;34m,\u001b[0m\u001b[0msumdata2\u001b[0m \u001b[0;34m=\u001b[0m \u001b[0mintersection_columns\u001b[0m\u001b[0;34m(\u001b[0m\u001b[0msumdata1\u001b[0m\u001b[0;34m,\u001b[0m\u001b[0msumdata2\u001b[0m\u001b[0;34m)\u001b[0m\u001b[0;34m\u001b[0m\u001b[0;34m\u001b[0m\u001b[0m\n\u001b[1;32m     18\u001b[0m     \u001b[0mtimedata1\u001b[0m\u001b[0;34m,\u001b[0m \u001b[0mtimedata2\u001b[0m \u001b[0;34m=\u001b[0m \u001b[0mintersection_columns\u001b[0m\u001b[0;34m(\u001b[0m\u001b[0mtimedata1\u001b[0m\u001b[0;34m,\u001b[0m\u001b[0mtimedata2\u001b[0m\u001b[0;34m)\u001b[0m\u001b[0;34m\u001b[0m\u001b[0;34m\u001b[0m\u001b[0m\n",
      "\u001b[0;32m/tmp/ipykernel_1305574/1848443989.py\u001b[0m in \u001b[0;36mcreate_sum_time_comparison\u001b[0;34m(path, name)\u001b[0m\n\u001b[1;32m      1\u001b[0m \u001b[0;32mdef\u001b[0m \u001b[0mcreate_sum_time_comparison\u001b[0m\u001b[0;34m(\u001b[0m\u001b[0mpath\u001b[0m\u001b[0;34m,\u001b[0m \u001b[0mname\u001b[0m\u001b[0;34m)\u001b[0m\u001b[0;34m:\u001b[0m\u001b[0;34m\u001b[0m\u001b[0;34m\u001b[0m\u001b[0m\n\u001b[1;32m      2\u001b[0m     \u001b[0mcsv\u001b[0m \u001b[0;34m=\u001b[0m \u001b[0mget_csv\u001b[0m\u001b[0;34m(\u001b[0m\u001b[0mpath\u001b[0m\u001b[0;34m)\u001b[0m\u001b[0;34m\u001b[0m\u001b[0;34m\u001b[0m\u001b[0m\n\u001b[0;32m----> 3\u001b[0;31m     \u001b[0mdf\u001b[0m \u001b[0;34m=\u001b[0m \u001b[0mdict_to_df\u001b[0m\u001b[0;34m(\u001b[0m\u001b[0mget_data\u001b[0m\u001b[0;34m(\u001b[0m\u001b[0mcsv\u001b[0m\u001b[0;34m)\u001b[0m\u001b[0;34m)\u001b[0m\u001b[0;34m\u001b[0m\u001b[0;34m\u001b[0m\u001b[0m\n\u001b[0m\u001b[1;32m      4\u001b[0m     \u001b[0msumdata\u001b[0m \u001b[0;34m=\u001b[0m \u001b[0msum_data\u001b[0m\u001b[0;34m(\u001b[0m\u001b[0mdf\u001b[0m\u001b[0;34m)\u001b[0m\u001b[0;34m\u001b[0m\u001b[0;34m\u001b[0m\u001b[0m\n\u001b[1;32m      5\u001b[0m     \u001b[0mtimedata\u001b[0m \u001b[0;34m=\u001b[0m \u001b[0mtime_data\u001b[0m\u001b[0;34m(\u001b[0m\u001b[0mdf\u001b[0m\u001b[0;34m)\u001b[0m\u001b[0;34m\u001b[0m\u001b[0;34m\u001b[0m\u001b[0m\n",
      "\u001b[0;32m/tmp/ipykernel_1305574/3317428696.py\u001b[0m in \u001b[0;36mget_data\u001b[0;34m(csv)\u001b[0m\n\u001b[1;32m     51\u001b[0m         \u001b[0;32mif\u001b[0m \u001b[0mnum\u001b[0m \u001b[0;34m<=\u001b[0m \u001b[0;36m1\u001b[0m\u001b[0;34m:\u001b[0m\u001b[0;34m\u001b[0m\u001b[0;34m\u001b[0m\u001b[0m\n\u001b[1;32m     52\u001b[0m             \u001b[0;32mcontinue\u001b[0m\u001b[0;34m\u001b[0m\u001b[0;34m\u001b[0m\u001b[0m\n\u001b[0;32m---> 53\u001b[0;31m         \u001b[0mbenchmark_set_name\u001b[0m \u001b[0;34m=\u001b[0m \u001b[0mget_benchmark_set_name\u001b[0m\u001b[0;34m(\u001b[0m\u001b[0mrow\u001b[0m\u001b[0;34m)\u001b[0m\u001b[0;34m\u001b[0m\u001b[0;34m\u001b[0m\u001b[0m\n\u001b[0m\u001b[1;32m     54\u001b[0m \u001b[0;34m\u001b[0m\u001b[0m\n\u001b[1;32m     55\u001b[0m         \u001b[0;32mif\u001b[0m \u001b[0mbenchmark_set_name\u001b[0m \u001b[0;32mnot\u001b[0m \u001b[0;32min\u001b[0m \u001b[0mbenchmark_data\u001b[0m\u001b[0;34m:\u001b[0m\u001b[0;34m\u001b[0m\u001b[0;34m\u001b[0m\u001b[0m\n",
      "\u001b[0;32m/tmp/ipykernel_1305574/3317428696.py\u001b[0m in \u001b[0;36mget_benchmark_set_name\u001b[0;34m(row)\u001b[0m\n\u001b[1;32m     36\u001b[0m     \u001b[0;32mif\u001b[0m \u001b[0mbenchmark_match\u001b[0m\u001b[0;34m:\u001b[0m\u001b[0;34m\u001b[0m\u001b[0;34m\u001b[0m\u001b[0m\n\u001b[1;32m     37\u001b[0m         \u001b[0;32mreturn\u001b[0m \u001b[0mbenchmark_match\u001b[0m\u001b[0;34m.\u001b[0m\u001b[0mgroup\u001b[0m\u001b[0;34m(\u001b[0m\u001b[0;36m1\u001b[0m\u001b[0;34m)\u001b[0m\u001b[0;34m\u001b[0m\u001b[0;34m\u001b[0m\u001b[0m\n\u001b[0;32m---> 38\u001b[0;31m     \u001b[0;32massert\u001b[0m\u001b[0;34m(\u001b[0m\u001b[0;32mFalse\u001b[0m\u001b[0;34m)\u001b[0m\u001b[0;34m\u001b[0m\u001b[0;34m\u001b[0m\u001b[0m\n\u001b[0m\u001b[1;32m     39\u001b[0m \u001b[0;34m\u001b[0m\u001b[0m\n\u001b[1;32m     40\u001b[0m \u001b[0;34m\u001b[0m\u001b[0m\n",
      "\u001b[0;31mAssertionError\u001b[0m: "
     ]
    }
   ],
   "source": [
    "sumcompare, timecompare = copmare_dfs(orig_dir, \"orig\", current_dir[0], \"not lazy cached\")"
   ]
  },
  {
   "cell_type": "code",
   "execution_count": null,
   "id": "11183732",
   "metadata": {},
   "outputs": [],
   "source": []
  },
  {
   "cell_type": "code",
   "execution_count": null,
   "id": "8fca5d02",
   "metadata": {},
   "outputs": [],
   "source": []
  },
  {
   "cell_type": "code",
   "execution_count": 8,
   "id": "ed94398a",
   "metadata": {},
   "outputs": [],
   "source": [
    "sumcompare, timecompare = ml.copmare_dfs(orig_dir, \"orig\", current_dir[0], \"not lazy cached\")"
   ]
  },
  {
   "cell_type": "code",
   "execution_count": 9,
   "id": "aa2afb3c",
   "metadata": {},
   "outputs": [
    {
     "data": {
      "text/html": [
       "<style type=\"text/css\">\n",
       "#T_6f497_row0_col0, #T_6f497_row0_col1, #T_6f497_row0_col2, #T_6f497_row0_col3, #T_6f497_row0_col4, #T_6f497_row0_col5, #T_6f497_row0_col6, #T_6f497_row0_col7, #T_6f497_row1_col2, #T_6f497_row1_col3, #T_6f497_row1_col4, #T_6f497_row1_col5, #T_6f497_row2_col0, #T_6f497_row2_col1, #T_6f497_row2_col2, #T_6f497_row2_col3, #T_6f497_row2_col4, #T_6f497_row2_col5, #T_6f497_row2_col6, #T_6f497_row2_col7, #T_6f497_row3_col2, #T_6f497_row3_col3, #T_6f497_row3_col4, #T_6f497_row3_col5, #T_6f497_row4_col2, #T_6f497_row4_col3, #T_6f497_row4_col4, #T_6f497_row4_col5, #T_6f497_row5_col0, #T_6f497_row5_col1, #T_6f497_row5_col2, #T_6f497_row5_col3, #T_6f497_row5_col4, #T_6f497_row5_col5, #T_6f497_row5_col6, #T_6f497_row5_col7, #T_6f497_row6_col0, #T_6f497_row6_col1, #T_6f497_row6_col2, #T_6f497_row6_col3, #T_6f497_row6_col4, #T_6f497_row6_col5 {\n",
       "  background-color: white;\n",
       "}\n",
       "#T_6f497_row1_col0, #T_6f497_row1_col1, #T_6f497_row1_col6, #T_6f497_row1_col7, #T_6f497_row3_col0, #T_6f497_row3_col1, #T_6f497_row3_col6, #T_6f497_row3_col7, #T_6f497_row6_col6, #T_6f497_row6_col7 {\n",
       "  background-color: lightblue;\n",
       "}\n",
       "#T_6f497_row4_col0, #T_6f497_row4_col1, #T_6f497_row4_col6, #T_6f497_row4_col7 {\n",
       "  background-color: pink;\n",
       "}\n",
       "</style>\n",
       "<table id=\"T_6f497\">\n",
       "  <thead>\n",
       "    <tr>\n",
       "      <th class=\"blank level0\" >&nbsp;</th>\n",
       "      <th id=\"T_6f497_level0_col0\" class=\"col_heading level0 col0\" colspan=\"2\">2017-Preiner-keymaera</th>\n",
       "      <th id=\"T_6f497_level0_col2\" class=\"col_heading level0 col2\" colspan=\"2\">2017-Preiner-psyco</th>\n",
       "      <th id=\"T_6f497_level0_col4\" class=\"col_heading level0 col4\" colspan=\"2\">2018-Preiner-cav18</th>\n",
       "      <th id=\"T_6f497_level0_col6\" class=\"col_heading level0 col6\" colspan=\"2\">20230321-UltimateAutomizerSvcomp2023</th>\n",
       "    </tr>\n",
       "    <tr>\n",
       "      <th class=\"blank level1\" >&nbsp;</th>\n",
       "      <th id=\"T_6f497_level1_col0\" class=\"col_heading level1 col0\" >orig</th>\n",
       "      <th id=\"T_6f497_level1_col1\" class=\"col_heading level1 col1\" >not lazy cached</th>\n",
       "      <th id=\"T_6f497_level1_col2\" class=\"col_heading level1 col2\" >orig</th>\n",
       "      <th id=\"T_6f497_level1_col3\" class=\"col_heading level1 col3\" >not lazy cached</th>\n",
       "      <th id=\"T_6f497_level1_col4\" class=\"col_heading level1 col4\" >orig</th>\n",
       "      <th id=\"T_6f497_level1_col5\" class=\"col_heading level1 col5\" >not lazy cached</th>\n",
       "      <th id=\"T_6f497_level1_col6\" class=\"col_heading level1 col6\" >orig</th>\n",
       "      <th id=\"T_6f497_level1_col7\" class=\"col_heading level1 col7\" >not lazy cached</th>\n",
       "    </tr>\n",
       "  </thead>\n",
       "  <tbody>\n",
       "    <tr>\n",
       "      <th id=\"T_6f497_level0_row0\" class=\"row_heading level0 row0\" >total</th>\n",
       "      <td id=\"T_6f497_row0_col0\" class=\"data row0 col0\" >4035</td>\n",
       "      <td id=\"T_6f497_row0_col1\" class=\"data row0 col1\" >4035</td>\n",
       "      <td id=\"T_6f497_row0_col2\" class=\"data row0 col2\" >194</td>\n",
       "      <td id=\"T_6f497_row0_col3\" class=\"data row0 col3\" >194</td>\n",
       "      <td id=\"T_6f497_row0_col4\" class=\"data row0 col4\" >600</td>\n",
       "      <td id=\"T_6f497_row0_col5\" class=\"data row0 col5\" >600</td>\n",
       "      <td id=\"T_6f497_row0_col6\" class=\"data row0 col6\" >140</td>\n",
       "      <td id=\"T_6f497_row0_col7\" class=\"data row0 col7\" >140</td>\n",
       "    </tr>\n",
       "    <tr>\n",
       "      <th id=\"T_6f497_level0_row1\" class=\"row_heading level0 row1\" >unsat</th>\n",
       "      <td id=\"T_6f497_row1_col0\" class=\"data row1 col0\" >3904</td>\n",
       "      <td id=\"T_6f497_row1_col1\" class=\"data row1 col1\" >3906</td>\n",
       "      <td id=\"T_6f497_row1_col2\" class=\"data row1 col2\" >48</td>\n",
       "      <td id=\"T_6f497_row1_col3\" class=\"data row1 col3\" >48</td>\n",
       "      <td id=\"T_6f497_row1_col4\" class=\"data row1 col4\" >563</td>\n",
       "      <td id=\"T_6f497_row1_col5\" class=\"data row1 col5\" >563</td>\n",
       "      <td id=\"T_6f497_row1_col6\" class=\"data row1 col6\" >94</td>\n",
       "      <td id=\"T_6f497_row1_col7\" class=\"data row1 col7\" >121</td>\n",
       "    </tr>\n",
       "    <tr>\n",
       "      <th id=\"T_6f497_level0_row2\" class=\"row_heading level0 row2\" >sat</th>\n",
       "      <td id=\"T_6f497_row2_col0\" class=\"data row2 col0\" >104</td>\n",
       "      <td id=\"T_6f497_row2_col1\" class=\"data row2 col1\" >104</td>\n",
       "      <td id=\"T_6f497_row2_col2\" class=\"data row2 col2\" >104</td>\n",
       "      <td id=\"T_6f497_row2_col3\" class=\"data row2 col3\" >104</td>\n",
       "      <td id=\"T_6f497_row2_col4\" class=\"data row2 col4\" >0</td>\n",
       "      <td id=\"T_6f497_row2_col5\" class=\"data row2 col5\" >0</td>\n",
       "      <td id=\"T_6f497_row2_col6\" class=\"data row2 col6\" >13</td>\n",
       "      <td id=\"T_6f497_row2_col7\" class=\"data row2 col7\" >13</td>\n",
       "    </tr>\n",
       "    <tr>\n",
       "      <th id=\"T_6f497_level0_row3\" class=\"row_heading level0 row3\" >solved</th>\n",
       "      <td id=\"T_6f497_row3_col0\" class=\"data row3 col0\" >4008</td>\n",
       "      <td id=\"T_6f497_row3_col1\" class=\"data row3 col1\" >4010</td>\n",
       "      <td id=\"T_6f497_row3_col2\" class=\"data row3 col2\" >152</td>\n",
       "      <td id=\"T_6f497_row3_col3\" class=\"data row3 col3\" >152</td>\n",
       "      <td id=\"T_6f497_row3_col4\" class=\"data row3 col4\" >563</td>\n",
       "      <td id=\"T_6f497_row3_col5\" class=\"data row3 col5\" >563</td>\n",
       "      <td id=\"T_6f497_row3_col6\" class=\"data row3 col6\" >107</td>\n",
       "      <td id=\"T_6f497_row3_col7\" class=\"data row3 col7\" >134</td>\n",
       "    </tr>\n",
       "    <tr>\n",
       "      <th id=\"T_6f497_level0_row4\" class=\"row_heading level0 row4\" >timeout</th>\n",
       "      <td id=\"T_6f497_row4_col0\" class=\"data row4 col0\" >27</td>\n",
       "      <td id=\"T_6f497_row4_col1\" class=\"data row4 col1\" >25</td>\n",
       "      <td id=\"T_6f497_row4_col2\" class=\"data row4 col2\" >42</td>\n",
       "      <td id=\"T_6f497_row4_col3\" class=\"data row4 col3\" >42</td>\n",
       "      <td id=\"T_6f497_row4_col4\" class=\"data row4 col4\" >37</td>\n",
       "      <td id=\"T_6f497_row4_col5\" class=\"data row4 col5\" >37</td>\n",
       "      <td id=\"T_6f497_row4_col6\" class=\"data row4 col6\" >33</td>\n",
       "      <td id=\"T_6f497_row4_col7\" class=\"data row4 col7\" >5</td>\n",
       "    </tr>\n",
       "    <tr>\n",
       "      <th id=\"T_6f497_level0_row5\" class=\"row_heading level0 row5\" >segfault</th>\n",
       "      <td id=\"T_6f497_row5_col0\" class=\"data row5 col0\" >0</td>\n",
       "      <td id=\"T_6f497_row5_col1\" class=\"data row5 col1\" >0</td>\n",
       "      <td id=\"T_6f497_row5_col2\" class=\"data row5 col2\" >0</td>\n",
       "      <td id=\"T_6f497_row5_col3\" class=\"data row5 col3\" >0</td>\n",
       "      <td id=\"T_6f497_row5_col4\" class=\"data row5 col4\" >0</td>\n",
       "      <td id=\"T_6f497_row5_col5\" class=\"data row5 col5\" >0</td>\n",
       "      <td id=\"T_6f497_row5_col6\" class=\"data row5 col6\" >0</td>\n",
       "      <td id=\"T_6f497_row5_col7\" class=\"data row5 col7\" >0</td>\n",
       "    </tr>\n",
       "    <tr>\n",
       "      <th id=\"T_6f497_level0_row6\" class=\"row_heading level0 row6\" >other</th>\n",
       "      <td id=\"T_6f497_row6_col0\" class=\"data row6 col0\" >0</td>\n",
       "      <td id=\"T_6f497_row6_col1\" class=\"data row6 col1\" >0</td>\n",
       "      <td id=\"T_6f497_row6_col2\" class=\"data row6 col2\" >0</td>\n",
       "      <td id=\"T_6f497_row6_col3\" class=\"data row6 col3\" >0</td>\n",
       "      <td id=\"T_6f497_row6_col4\" class=\"data row6 col4\" >0</td>\n",
       "      <td id=\"T_6f497_row6_col5\" class=\"data row6 col5\" >0</td>\n",
       "      <td id=\"T_6f497_row6_col6\" class=\"data row6 col6\" >0</td>\n",
       "      <td id=\"T_6f497_row6_col7\" class=\"data row6 col7\" >1</td>\n",
       "    </tr>\n",
       "  </tbody>\n",
       "</table>\n"
      ],
      "text/plain": [
       "<pandas.io.formats.style.Styler at 0x730cb32e5cf0>"
      ]
     },
     "execution_count": 9,
     "metadata": {},
     "output_type": "execute_result"
    }
   ],
   "source": [
    "sumcompare"
   ]
  },
  {
   "cell_type": "code",
   "execution_count": 10,
   "id": "364a41b1",
   "metadata": {},
   "outputs": [
    {
     "data": {
      "text/html": [
       "<style type=\"text/css\">\n",
       "#T_ba948_row0_col0, #T_ba948_row0_col1, #T_ba948_row0_col2, #T_ba948_row0_col3, #T_ba948_row0_col4, #T_ba948_row0_col5, #T_ba948_row0_col6, #T_ba948_row0_col7, #T_ba948_row1_col2, #T_ba948_row1_col3, #T_ba948_row2_col4, #T_ba948_row2_col5, #T_ba948_row3_col0, #T_ba948_row3_col1, #T_ba948_row3_col4, #T_ba948_row3_col5, #T_ba948_row3_col6, #T_ba948_row3_col7, #T_ba948_row6_col0, #T_ba948_row6_col1, #T_ba948_row6_col2, #T_ba948_row6_col3, #T_ba948_row6_col4, #T_ba948_row6_col5, #T_ba948_row6_col6, #T_ba948_row6_col7, #T_ba948_row7_col2, #T_ba948_row7_col3, #T_ba948_row8_col4, #T_ba948_row8_col5, #T_ba948_row9_col0, #T_ba948_row9_col1, #T_ba948_row9_col4, #T_ba948_row9_col5 {\n",
       "  background-color: lightblue;\n",
       "}\n",
       "#T_ba948_row1_col0, #T_ba948_row1_col1, #T_ba948_row1_col6, #T_ba948_row1_col7, #T_ba948_row2_col0, #T_ba948_row2_col1, #T_ba948_row2_col2, #T_ba948_row2_col3, #T_ba948_row2_col6, #T_ba948_row2_col7, #T_ba948_row3_col2, #T_ba948_row3_col3, #T_ba948_row5_col6, #T_ba948_row5_col7, #T_ba948_row7_col0, #T_ba948_row7_col1, #T_ba948_row7_col6, #T_ba948_row7_col7, #T_ba948_row8_col0, #T_ba948_row8_col1, #T_ba948_row8_col2, #T_ba948_row8_col3, #T_ba948_row8_col6, #T_ba948_row8_col7, #T_ba948_row9_col2, #T_ba948_row9_col3, #T_ba948_row9_col6, #T_ba948_row9_col7, #T_ba948_row11_col6, #T_ba948_row11_col7 {\n",
       "  background-color: pink;\n",
       "}\n",
       "#T_ba948_row1_col4, #T_ba948_row1_col5, #T_ba948_row4_col0, #T_ba948_row4_col1, #T_ba948_row4_col2, #T_ba948_row4_col3, #T_ba948_row4_col4, #T_ba948_row4_col5, #T_ba948_row4_col6, #T_ba948_row4_col7, #T_ba948_row5_col0, #T_ba948_row5_col1, #T_ba948_row5_col2, #T_ba948_row5_col3, #T_ba948_row5_col4, #T_ba948_row5_col5, #T_ba948_row7_col4, #T_ba948_row7_col5, #T_ba948_row10_col0, #T_ba948_row10_col1, #T_ba948_row10_col2, #T_ba948_row10_col3, #T_ba948_row10_col4, #T_ba948_row10_col5, #T_ba948_row10_col6, #T_ba948_row10_col7, #T_ba948_row11_col0, #T_ba948_row11_col1, #T_ba948_row11_col2, #T_ba948_row11_col3, #T_ba948_row11_col4, #T_ba948_row11_col5 {\n",
       "  background-color: white;\n",
       "}\n",
       "</style>\n",
       "<table id=\"T_ba948\">\n",
       "  <thead>\n",
       "    <tr>\n",
       "      <th class=\"blank level0\" >&nbsp;</th>\n",
       "      <th id=\"T_ba948_level0_col0\" class=\"col_heading level0 col0\" colspan=\"2\">2017-Preiner-keymaera</th>\n",
       "      <th id=\"T_ba948_level0_col2\" class=\"col_heading level0 col2\" colspan=\"2\">2017-Preiner-psyco</th>\n",
       "      <th id=\"T_ba948_level0_col4\" class=\"col_heading level0 col4\" colspan=\"2\">2018-Preiner-cav18</th>\n",
       "      <th id=\"T_ba948_level0_col6\" class=\"col_heading level0 col6\" colspan=\"2\">20230321-UltimateAutomizerSvcomp2023</th>\n",
       "    </tr>\n",
       "    <tr>\n",
       "      <th class=\"blank level1\" >&nbsp;</th>\n",
       "      <th id=\"T_ba948_level1_col0\" class=\"col_heading level1 col0\" >orig</th>\n",
       "      <th id=\"T_ba948_level1_col1\" class=\"col_heading level1 col1\" >not lazy cached</th>\n",
       "      <th id=\"T_ba948_level1_col2\" class=\"col_heading level1 col2\" >orig</th>\n",
       "      <th id=\"T_ba948_level1_col3\" class=\"col_heading level1 col3\" >not lazy cached</th>\n",
       "      <th id=\"T_ba948_level1_col4\" class=\"col_heading level1 col4\" >orig</th>\n",
       "      <th id=\"T_ba948_level1_col5\" class=\"col_heading level1 col5\" >not lazy cached</th>\n",
       "      <th id=\"T_ba948_level1_col6\" class=\"col_heading level1 col6\" >orig</th>\n",
       "      <th id=\"T_ba948_level1_col7\" class=\"col_heading level1 col7\" >not lazy cached</th>\n",
       "    </tr>\n",
       "  </thead>\n",
       "  <tbody>\n",
       "    <tr>\n",
       "      <th id=\"T_ba948_level0_row0\" class=\"row_heading level0 row0\" >total</th>\n",
       "      <td id=\"T_ba948_row0_col0\" class=\"data row0 col0\" >8929.591448</td>\n",
       "      <td id=\"T_ba948_row0_col1\" class=\"data row0 col1\" >8431.718862</td>\n",
       "      <td id=\"T_ba948_row0_col2\" class=\"data row0 col2\" >13583.361213</td>\n",
       "      <td id=\"T_ba948_row0_col3\" class=\"data row0 col3\" >13546.478194</td>\n",
       "      <td id=\"T_ba948_row0_col4\" class=\"data row0 col4\" >11573.525828</td>\n",
       "      <td id=\"T_ba948_row0_col5\" class=\"data row0 col5\" >11558.468594</td>\n",
       "      <td id=\"T_ba948_row0_col6\" class=\"data row0 col6\" >10066.185572</td>\n",
       "      <td id=\"T_ba948_row0_col7\" class=\"data row0 col7\" >2030.792159</td>\n",
       "    </tr>\n",
       "    <tr>\n",
       "      <th id=\"T_ba948_level0_row1\" class=\"row_heading level0 row1\" >sat total</th>\n",
       "      <td id=\"T_ba948_row1_col0\" class=\"data row1 col0\" >469.433994</td>\n",
       "      <td id=\"T_ba948_row1_col1\" class=\"data row1 col1\" >487.851783</td>\n",
       "      <td id=\"T_ba948_row1_col2\" class=\"data row1 col2\" >829.460103</td>\n",
       "      <td id=\"T_ba948_row1_col3\" class=\"data row1 col3\" >777.244499</td>\n",
       "      <td id=\"T_ba948_row1_col4\" class=\"data row1 col4\" >0.000000</td>\n",
       "      <td id=\"T_ba948_row1_col5\" class=\"data row1 col5\" >0.000000</td>\n",
       "      <td id=\"T_ba948_row1_col6\" class=\"data row1 col6\" >3.301213</td>\n",
       "      <td id=\"T_ba948_row1_col7\" class=\"data row1 col7\" >5.893399</td>\n",
       "    </tr>\n",
       "    <tr>\n",
       "      <th id=\"T_ba948_level0_row2\" class=\"row_heading level0 row2\" >unsat total</th>\n",
       "      <td id=\"T_ba948_row2_col0\" class=\"data row2 col0\" >280.524171</td>\n",
       "      <td id=\"T_ba948_row2_col1\" class=\"data row2 col1\" >371.257735</td>\n",
       "      <td id=\"T_ba948_row2_col2\" class=\"data row2 col2\" >90.161614</td>\n",
       "      <td id=\"T_ba948_row2_col3\" class=\"data row2 col3\" >100.234298</td>\n",
       "      <td id=\"T_ba948_row2_col4\" class=\"data row2 col4\" >361.528718</td>\n",
       "      <td id=\"T_ba948_row2_col5\" class=\"data row2 col5\" >347.682895</td>\n",
       "      <td id=\"T_ba948_row2_col6\" class=\"data row2 col6\" >64.701073</td>\n",
       "      <td id=\"T_ba948_row2_col7\" class=\"data row2 col7\" >509.557718</td>\n",
       "    </tr>\n",
       "    <tr>\n",
       "      <th id=\"T_ba948_level0_row3\" class=\"row_heading level0 row3\" >timeout total</th>\n",
       "      <td id=\"T_ba948_row3_col0\" class=\"data row3 col0\" >8179.633283</td>\n",
       "      <td id=\"T_ba948_row3_col1\" class=\"data row3 col1\" >7572.609344</td>\n",
       "      <td id=\"T_ba948_row3_col2\" class=\"data row3 col2\" >12663.739496</td>\n",
       "      <td id=\"T_ba948_row3_col3\" class=\"data row3 col3\" >12668.999396</td>\n",
       "      <td id=\"T_ba948_row3_col4\" class=\"data row3 col4\" >11211.997110</td>\n",
       "      <td id=\"T_ba948_row3_col5\" class=\"data row3 col5\" >11210.785699</td>\n",
       "      <td id=\"T_ba948_row3_col6\" class=\"data row3 col6\" >9998.183287</td>\n",
       "      <td id=\"T_ba948_row3_col7\" class=\"data row3 col7\" >1515.033302</td>\n",
       "    </tr>\n",
       "    <tr>\n",
       "      <th id=\"T_ba948_level0_row4\" class=\"row_heading level0 row4\" >segfault total</th>\n",
       "      <td id=\"T_ba948_row4_col0\" class=\"data row4 col0\" >0.000000</td>\n",
       "      <td id=\"T_ba948_row4_col1\" class=\"data row4 col1\" >0.000000</td>\n",
       "      <td id=\"T_ba948_row4_col2\" class=\"data row4 col2\" >0.000000</td>\n",
       "      <td id=\"T_ba948_row4_col3\" class=\"data row4 col3\" >0.000000</td>\n",
       "      <td id=\"T_ba948_row4_col4\" class=\"data row4 col4\" >0.000000</td>\n",
       "      <td id=\"T_ba948_row4_col5\" class=\"data row4 col5\" >0.000000</td>\n",
       "      <td id=\"T_ba948_row4_col6\" class=\"data row4 col6\" >0.000000</td>\n",
       "      <td id=\"T_ba948_row4_col7\" class=\"data row4 col7\" >0.000000</td>\n",
       "    </tr>\n",
       "    <tr>\n",
       "      <th id=\"T_ba948_level0_row5\" class=\"row_heading level0 row5\" >other total</th>\n",
       "      <td id=\"T_ba948_row5_col0\" class=\"data row5 col0\" >0.000000</td>\n",
       "      <td id=\"T_ba948_row5_col1\" class=\"data row5 col1\" >0.000000</td>\n",
       "      <td id=\"T_ba948_row5_col2\" class=\"data row5 col2\" >0.000000</td>\n",
       "      <td id=\"T_ba948_row5_col3\" class=\"data row5 col3\" >0.000000</td>\n",
       "      <td id=\"T_ba948_row5_col4\" class=\"data row5 col4\" >0.000000</td>\n",
       "      <td id=\"T_ba948_row5_col5\" class=\"data row5 col5\" >0.000000</td>\n",
       "      <td id=\"T_ba948_row5_col6\" class=\"data row5 col6\" >0.000000</td>\n",
       "      <td id=\"T_ba948_row5_col7\" class=\"data row5 col7\" >0.307740</td>\n",
       "    </tr>\n",
       "    <tr>\n",
       "      <th id=\"T_ba948_level0_row6\" class=\"row_heading level0 row6\" >average</th>\n",
       "      <td id=\"T_ba948_row6_col0\" class=\"data row6 col0\" >2.213034</td>\n",
       "      <td id=\"T_ba948_row6_col1\" class=\"data row6 col1\" >2.089645</td>\n",
       "      <td id=\"T_ba948_row6_col2\" class=\"data row6 col2\" >70.017326</td>\n",
       "      <td id=\"T_ba948_row6_col3\" class=\"data row6 col3\" >69.827207</td>\n",
       "      <td id=\"T_ba948_row6_col4\" class=\"data row6 col4\" >19.289210</td>\n",
       "      <td id=\"T_ba948_row6_col5\" class=\"data row6 col5\" >19.264114</td>\n",
       "      <td id=\"T_ba948_row6_col6\" class=\"data row6 col6\" >71.901326</td>\n",
       "      <td id=\"T_ba948_row6_col7\" class=\"data row6 col7\" >14.505658</td>\n",
       "    </tr>\n",
       "    <tr>\n",
       "      <th id=\"T_ba948_level0_row7\" class=\"row_heading level0 row7\" >sat average</th>\n",
       "      <td id=\"T_ba948_row7_col0\" class=\"data row7 col0\" >4.513788</td>\n",
       "      <td id=\"T_ba948_row7_col1\" class=\"data row7 col1\" >4.690883</td>\n",
       "      <td id=\"T_ba948_row7_col2\" class=\"data row7 col2\" >7.975578</td>\n",
       "      <td id=\"T_ba948_row7_col3\" class=\"data row7 col3\" >7.473505</td>\n",
       "      <td id=\"T_ba948_row7_col4\" class=\"data row7 col4\" >0.000000</td>\n",
       "      <td id=\"T_ba948_row7_col5\" class=\"data row7 col5\" >0.000000</td>\n",
       "      <td id=\"T_ba948_row7_col6\" class=\"data row7 col6\" >0.253939</td>\n",
       "      <td id=\"T_ba948_row7_col7\" class=\"data row7 col7\" >0.453338</td>\n",
       "    </tr>\n",
       "    <tr>\n",
       "      <th id=\"T_ba948_level0_row8\" class=\"row_heading level0 row8\" >unsat average</th>\n",
       "      <td id=\"T_ba948_row8_col0\" class=\"data row8 col0\" >0.071856</td>\n",
       "      <td id=\"T_ba948_row8_col1\" class=\"data row8 col1\" >0.095048</td>\n",
       "      <td id=\"T_ba948_row8_col2\" class=\"data row8 col2\" >1.878367</td>\n",
       "      <td id=\"T_ba948_row8_col3\" class=\"data row8 col3\" >2.088215</td>\n",
       "      <td id=\"T_ba948_row8_col4\" class=\"data row8 col4\" >0.642147</td>\n",
       "      <td id=\"T_ba948_row8_col5\" class=\"data row8 col5\" >0.617554</td>\n",
       "      <td id=\"T_ba948_row8_col6\" class=\"data row8 col6\" >0.688309</td>\n",
       "      <td id=\"T_ba948_row8_col7\" class=\"data row8 col7\" >4.211221</td>\n",
       "    </tr>\n",
       "    <tr>\n",
       "      <th id=\"T_ba948_level0_row9\" class=\"row_heading level0 row9\" >timeout average</th>\n",
       "      <td id=\"T_ba948_row9_col0\" class=\"data row9 col0\" >302.949381</td>\n",
       "      <td id=\"T_ba948_row9_col1\" class=\"data row9 col1\" >302.904374</td>\n",
       "      <td id=\"T_ba948_row9_col2\" class=\"data row9 col2\" >301.517607</td>\n",
       "      <td id=\"T_ba948_row9_col3\" class=\"data row9 col3\" >301.642843</td>\n",
       "      <td id=\"T_ba948_row9_col4\" class=\"data row9 col4\" >303.026949</td>\n",
       "      <td id=\"T_ba948_row9_col5\" class=\"data row9 col5\" >302.994208</td>\n",
       "      <td id=\"T_ba948_row9_col6\" class=\"data row9 col6\" >302.975251</td>\n",
       "      <td id=\"T_ba948_row9_col7\" class=\"data row9 col7\" >303.006660</td>\n",
       "    </tr>\n",
       "    <tr>\n",
       "      <th id=\"T_ba948_level0_row10\" class=\"row_heading level0 row10\" >segfault average</th>\n",
       "      <td id=\"T_ba948_row10_col0\" class=\"data row10 col0\" >0.000000</td>\n",
       "      <td id=\"T_ba948_row10_col1\" class=\"data row10 col1\" >0.000000</td>\n",
       "      <td id=\"T_ba948_row10_col2\" class=\"data row10 col2\" >0.000000</td>\n",
       "      <td id=\"T_ba948_row10_col3\" class=\"data row10 col3\" >0.000000</td>\n",
       "      <td id=\"T_ba948_row10_col4\" class=\"data row10 col4\" >0.000000</td>\n",
       "      <td id=\"T_ba948_row10_col5\" class=\"data row10 col5\" >0.000000</td>\n",
       "      <td id=\"T_ba948_row10_col6\" class=\"data row10 col6\" >0.000000</td>\n",
       "      <td id=\"T_ba948_row10_col7\" class=\"data row10 col7\" >0.000000</td>\n",
       "    </tr>\n",
       "    <tr>\n",
       "      <th id=\"T_ba948_level0_row11\" class=\"row_heading level0 row11\" >others average</th>\n",
       "      <td id=\"T_ba948_row11_col0\" class=\"data row11 col0\" >0.000000</td>\n",
       "      <td id=\"T_ba948_row11_col1\" class=\"data row11 col1\" >0.000000</td>\n",
       "      <td id=\"T_ba948_row11_col2\" class=\"data row11 col2\" >0.000000</td>\n",
       "      <td id=\"T_ba948_row11_col3\" class=\"data row11 col3\" >0.000000</td>\n",
       "      <td id=\"T_ba948_row11_col4\" class=\"data row11 col4\" >0.000000</td>\n",
       "      <td id=\"T_ba948_row11_col5\" class=\"data row11 col5\" >0.000000</td>\n",
       "      <td id=\"T_ba948_row11_col6\" class=\"data row11 col6\" >0.000000</td>\n",
       "      <td id=\"T_ba948_row11_col7\" class=\"data row11 col7\" >0.307740</td>\n",
       "    </tr>\n",
       "  </tbody>\n",
       "</table>\n"
      ],
      "text/plain": [
       "<pandas.io.formats.style.Styler at 0x730cb32e7250>"
      ]
     },
     "execution_count": 10,
     "metadata": {},
     "output_type": "execute_result"
    }
   ],
   "source": [
    "timecompare"
   ]
  },
  {
   "cell_type": "code",
   "execution_count": 11,
   "id": "2a40d11f",
   "metadata": {},
   "outputs": [],
   "source": [
    "new_errors, both_errors, removed_errors, new_timeouts, removed_timeouts,nan_values, mistakes  = ml.get_worse_results(orig_dir, current_dir[0])"
   ]
  },
  {
   "cell_type": "markdown",
   "id": "d2a29b70",
   "metadata": {},
   "source": [
    "# Worse"
   ]
  },
  {
   "cell_type": "code",
   "execution_count": 12,
   "id": "8c1309fd",
   "metadata": {},
   "outputs": [
    {
     "data": {
      "text/plain": [
       "[]"
      ]
     },
     "execution_count": 12,
     "metadata": {},
     "output_type": "execute_result"
    }
   ],
   "source": [
    "mistakes"
   ]
  },
  {
   "cell_type": "code",
   "execution_count": 13,
   "id": "abcf3901",
   "metadata": {},
   "outputs": [
    {
     "data": {
      "text/plain": [
       "[]"
      ]
     },
     "execution_count": 13,
     "metadata": {},
     "output_type": "execute_result"
    }
   ],
   "source": [
    "new_timeouts"
   ]
  },
  {
   "cell_type": "code",
   "execution_count": 14,
   "id": "f5b4f1ec",
   "metadata": {},
   "outputs": [
    {
     "data": {
      "text/plain": [
       "[(                                        benchmarkfile result   cputime  \\\n",
       "  26  20230321-UltimateAutomizerSvcomp2023/btor2c-la...  false  0.182871   \n",
       "  \n",
       "      walltime     memory  \n",
       "  26  0.138952  104.87808  ,\n",
       "                                          benchmarkfile   result  cputime  \\\n",
       "  26  20230321-UltimateAutomizerSvcomp2023/btor2c-la...  ABORTED  0.30774   \n",
       "  \n",
       "      walltime      memory  \n",
       "  26  0.329554  105.275392  )]"
      ]
     },
     "execution_count": 14,
     "metadata": {},
     "output_type": "execute_result"
    }
   ],
   "source": [
    "new_errors"
   ]
  },
  {
   "cell_type": "code",
   "execution_count": 15,
   "id": "ee3933c1",
   "metadata": {},
   "outputs": [
    {
     "data": {
      "text/plain": [
       "[]"
      ]
     },
     "execution_count": 15,
     "metadata": {},
     "output_type": "execute_result"
    }
   ],
   "source": [
    "both_errors"
   ]
  },
  {
   "cell_type": "markdown",
   "id": "b16e2a00",
   "metadata": {},
   "source": [
    "# Better"
   ]
  },
  {
   "cell_type": "code",
   "execution_count": 16,
   "id": "4d7706f1",
   "metadata": {},
   "outputs": [
    {
     "data": {
      "text/plain": [
       "[]"
      ]
     },
     "execution_count": 16,
     "metadata": {},
     "output_type": "execute_result"
    }
   ],
   "source": [
    "removed_errors"
   ]
  },
  {
   "cell_type": "code",
   "execution_count": 17,
   "id": "99b3b589",
   "metadata": {},
   "outputs": [
    {
     "data": {
      "text/plain": [
       "[(                                         benchmarkfile   result     cputime  \\\n",
       "  106  20230321-UltimateAutomizerSvcomp2023/soft_floa...  TIMEOUT  302.964754   \n",
       "  \n",
       "         walltime      memory  \n",
       "  106  101.028022  408.526848  ,\n",
       "                                           benchmarkfile result    cputime  \\\n",
       "  106  20230321-UltimateAutomizerSvcomp2023/soft_floa...  false  17.244144   \n",
       "  \n",
       "       walltime      memory  \n",
       "  106  7.245993  264.511488  ),\n",
       " (                                         benchmarkfile   result     cputime  \\\n",
       "  107  20230321-UltimateAutomizerSvcomp2023/soft_floa...  TIMEOUT  302.964371   \n",
       "  \n",
       "         walltime      memory  \n",
       "  107  101.032074  480.268288  ,\n",
       "                                           benchmarkfile result    cputime  \\\n",
       "  107  20230321-UltimateAutomizerSvcomp2023/soft_floa...  false  15.853943   \n",
       "  \n",
       "       walltime      memory  \n",
       "  107  6.713142  325.369856  ),\n",
       " (                                         benchmarkfile   result     cputime  \\\n",
       "  108  20230321-UltimateAutomizerSvcomp2023/soft_floa...  TIMEOUT  302.964527   \n",
       "  \n",
       "         walltime      memory  \n",
       "  108  101.028486  406.704128  ,\n",
       "                                           benchmarkfile result   cputime  \\\n",
       "  108  20230321-UltimateAutomizerSvcomp2023/soft_floa...  false  9.232424   \n",
       "  \n",
       "       walltime      memory  \n",
       "  108  3.319386  258.899968  ),\n",
       " (                                         benchmarkfile   result     cputime  \\\n",
       "  109  20230321-UltimateAutomizerSvcomp2023/soft_floa...  TIMEOUT  302.962456   \n",
       "  \n",
       "         walltime      memory  \n",
       "  109  101.031026  416.264192  ,\n",
       "                                           benchmarkfile result    cputime  \\\n",
       "  109  20230321-UltimateAutomizerSvcomp2023/soft_floa...  false  10.943897   \n",
       "  \n",
       "       walltime     memory  \n",
       "  109  3.951739  261.98016  ),\n",
       " (                                         benchmarkfile   result   cputime  \\\n",
       "  110  20230321-UltimateAutomizerSvcomp2023/soft_floa...  TIMEOUT  302.9626   \n",
       "  \n",
       "         walltime      memory  \n",
       "  110  101.030875  411.676672  ,\n",
       "                                           benchmarkfile result    cputime  \\\n",
       "  110  20230321-UltimateAutomizerSvcomp2023/soft_floa...  false  17.063314   \n",
       "  \n",
       "       walltime      memory  \n",
       "  110  7.118097  264.658944  ),\n",
       " (                                         benchmarkfile   result     cputime  \\\n",
       "  111  20230321-UltimateAutomizerSvcomp2023/soft_floa...  TIMEOUT  302.967109   \n",
       "  \n",
       "         walltime      memory  \n",
       "  111  101.030991  406.544384  ,\n",
       "                                           benchmarkfile result    cputime  \\\n",
       "  111  20230321-UltimateAutomizerSvcomp2023/soft_floa...  false  15.925275   \n",
       "  \n",
       "       walltime     memory  \n",
       "  111  6.746945  324.83328  ),\n",
       " (                                         benchmarkfile   result     cputime  \\\n",
       "  112  20230321-UltimateAutomizerSvcomp2023/soft_floa...  TIMEOUT  302.961917   \n",
       "  \n",
       "         walltime    memory  \n",
       "  112  101.029725  406.4256  ,\n",
       "                                           benchmarkfile result    cputime  \\\n",
       "  112  20230321-UltimateAutomizerSvcomp2023/soft_floa...  false  16.129272   \n",
       "  \n",
       "       walltime      memory  \n",
       "  112  6.532261  325.996544  ),\n",
       " (                                         benchmarkfile   result     cputime  \\\n",
       "  113  20230321-UltimateAutomizerSvcomp2023/soft_floa...  TIMEOUT  302.969641   \n",
       "  \n",
       "         walltime      memory  \n",
       "  113  101.030644  409.092096  ,\n",
       "                                           benchmarkfile result    cputime  \\\n",
       "  113  20230321-UltimateAutomizerSvcomp2023/soft_floa...  false  15.858829   \n",
       "  \n",
       "       walltime      memory  \n",
       "  113   6.68565  324.612096  ),\n",
       " (                                         benchmarkfile   result     cputime  \\\n",
       "  115  20230321-UltimateAutomizerSvcomp2023/soft_floa...  TIMEOUT  302.965434   \n",
       "  \n",
       "         walltime      memory  \n",
       "  115  101.029944  406.724608  ,\n",
       "                                           benchmarkfile result   cputime  \\\n",
       "  115  20230321-UltimateAutomizerSvcomp2023/soft_floa...  false  14.29728   \n",
       "  \n",
       "       walltime      memory  \n",
       "  115  6.047239  324.296704  ),\n",
       " (                                         benchmarkfile   result    cputime  \\\n",
       "  116  20230321-UltimateAutomizerSvcomp2023/soft_floa...  TIMEOUT  302.97517   \n",
       "  \n",
       "       walltime      memory  \n",
       "  116  101.0372  473.464832  ,\n",
       "                                           benchmarkfile result    cputime  \\\n",
       "  116  20230321-UltimateAutomizerSvcomp2023/soft_floa...  false  15.715108   \n",
       "  \n",
       "       walltime      memory  \n",
       "  116  6.516314  325.603328  ),\n",
       " (                                         benchmarkfile   result     cputime  \\\n",
       "  117  20230321-UltimateAutomizerSvcomp2023/soft_floa...  TIMEOUT  302.967539   \n",
       "  \n",
       "         walltime    memory  \n",
       "  117  101.032842  412.3648  ,\n",
       "                                           benchmarkfile result    cputime  \\\n",
       "  117  20230321-UltimateAutomizerSvcomp2023/soft_floa...  false  14.459107   \n",
       "  \n",
       "       walltime     memory  \n",
       "  117  6.110269  324.11648  ),\n",
       " (                                         benchmarkfile   result     cputime  \\\n",
       "  120  20230321-UltimateAutomizerSvcomp2023/soft_floa...  TIMEOUT  302.972995   \n",
       "  \n",
       "        walltime      memory  \n",
       "  120  101.03483  461.053952  ,\n",
       "                                           benchmarkfile result    cputime  \\\n",
       "  120  20230321-UltimateAutomizerSvcomp2023/soft_floa...  false  17.401707   \n",
       "  \n",
       "       walltime     memory  \n",
       "  120  8.395036  330.07616  ),\n",
       " (                                         benchmarkfile   result     cputime  \\\n",
       "  121  20230321-UltimateAutomizerSvcomp2023/soft_floa...  TIMEOUT  302.975157   \n",
       "  \n",
       "         walltime      memory  \n",
       "  121  101.036018  464.207872  ,\n",
       "                                           benchmarkfile result    cputime  \\\n",
       "  121  20230321-UltimateAutomizerSvcomp2023/soft_floa...  false  17.279145   \n",
       "  \n",
       "       walltime      memory  \n",
       "  121  8.349591  330.162176  ),\n",
       " (                                         benchmarkfile   result     cputime  \\\n",
       "  122  20230321-UltimateAutomizerSvcomp2023/soft_floa...  TIMEOUT  302.965378   \n",
       "  \n",
       "         walltime      memory  \n",
       "  122  101.034913  460.148736  ,\n",
       "                                           benchmarkfile result    cputime  \\\n",
       "  122  20230321-UltimateAutomizerSvcomp2023/soft_floa...  false  15.008999   \n",
       "  \n",
       "       walltime      memory  \n",
       "  122  7.199134  330.072064  ),\n",
       " (                                         benchmarkfile   result     cputime  \\\n",
       "  123  20230321-UltimateAutomizerSvcomp2023/soft_floa...  TIMEOUT  302.974872   \n",
       "  \n",
       "         walltime      memory  \n",
       "  123  101.033482  464.101376  ,\n",
       "                                           benchmarkfile result    cputime  \\\n",
       "  123  20230321-UltimateAutomizerSvcomp2023/soft_floa...  false  19.810302   \n",
       "  \n",
       "       walltime      memory  \n",
       "  123  9.508935  329.805824  ),\n",
       " (                                         benchmarkfile   result     cputime  \\\n",
       "  124  20230321-UltimateAutomizerSvcomp2023/soft_floa...  TIMEOUT  302.967455   \n",
       "  \n",
       "         walltime      memory  \n",
       "  124  101.036257  463.982592  ,\n",
       "                                           benchmarkfile result    cputime  \\\n",
       "  124  20230321-UltimateAutomizerSvcomp2023/soft_floa...  false  16.498622   \n",
       "  \n",
       "       walltime      memory  \n",
       "  124   7.89286  329.924608  ),\n",
       " (                                         benchmarkfile   result     cputime  \\\n",
       "  125  20230321-UltimateAutomizerSvcomp2023/soft_floa...  TIMEOUT  302.969974   \n",
       "  \n",
       "         walltime      memory  \n",
       "  125  101.035778  446.488576  ,\n",
       "                                           benchmarkfile result  cputime  \\\n",
       "  125  20230321-UltimateAutomizerSvcomp2023/soft_floa...  false   14.241   \n",
       "  \n",
       "       walltime      memory  \n",
       "  125  6.322143  376.123392  ),\n",
       " (                                         benchmarkfile   result     cputime  \\\n",
       "  126  20230321-UltimateAutomizerSvcomp2023/soft_floa...  TIMEOUT  302.964875   \n",
       "  \n",
       "         walltime      memory  \n",
       "  126  101.031991  406.929408  ,\n",
       "                                           benchmarkfile result    cputime  \\\n",
       "  126  20230321-UltimateAutomizerSvcomp2023/soft_floa...  false  13.975274   \n",
       "  \n",
       "       walltime     memory  \n",
       "  126  5.874383  324.21888  ),\n",
       " (                                         benchmarkfile   result     cputime  \\\n",
       "  127  20230321-UltimateAutomizerSvcomp2023/soft_floa...  TIMEOUT  302.961375   \n",
       "  \n",
       "         walltime      memory  \n",
       "  127  101.028647  411.119616  ,\n",
       "                                           benchmarkfile result    cputime  \\\n",
       "  127  20230321-UltimateAutomizerSvcomp2023/soft_floa...  false  16.055398   \n",
       "  \n",
       "       walltime     memory  \n",
       "  127  6.482318  325.89824  ),\n",
       " (                                         benchmarkfile   result     cputime  \\\n",
       "  128  20230321-UltimateAutomizerSvcomp2023/soft_floa...  TIMEOUT  302.955805   \n",
       "  \n",
       "         walltime      memory  \n",
       "  128  101.029767  408.313856  ,\n",
       "                                           benchmarkfile result   cputime  \\\n",
       "  128  20230321-UltimateAutomizerSvcomp2023/soft_floa...  false  13.17724   \n",
       "  \n",
       "       walltime     memory  \n",
       "  128  5.587913  264.27392  ),\n",
       " (                                         benchmarkfile   result     cputime  \\\n",
       "  129  20230321-UltimateAutomizerSvcomp2023/soft_floa...  TIMEOUT  302.967681   \n",
       "  \n",
       "         walltime      memory  \n",
       "  129  101.029316  407.969792  ,\n",
       "                                           benchmarkfile result   cputime  \\\n",
       "  129  20230321-UltimateAutomizerSvcomp2023/soft_floa...  false  14.58941   \n",
       "  \n",
       "       walltime      memory  \n",
       "  129   5.52146  324.374528  ),\n",
       " (                                         benchmarkfile   result     cputime  \\\n",
       "  130  20230321-UltimateAutomizerSvcomp2023/soft_floa...  TIMEOUT  302.955239   \n",
       "  \n",
       "         walltime      memory  \n",
       "  130  101.032725  416.391168  ,\n",
       "                                           benchmarkfile result    cputime  \\\n",
       "  130  20230321-UltimateAutomizerSvcomp2023/soft_floa...  false  16.889306   \n",
       "  \n",
       "       walltime     memory  \n",
       "  130  7.035243  324.44416  ),\n",
       " (                                         benchmarkfile   result     cputime  \\\n",
       "  131  20230321-UltimateAutomizerSvcomp2023/soft_floa...  TIMEOUT  302.971363   \n",
       "  \n",
       "         walltime      memory  \n",
       "  131  101.034782  481.611776  ,\n",
       "                                           benchmarkfile result    cputime  \\\n",
       "  131  20230321-UltimateAutomizerSvcomp2023/soft_floa...  false  15.559466   \n",
       "  \n",
       "       walltime      memory  \n",
       "  131  6.465817  326.213632  ),\n",
       " (                                         benchmarkfile   result     cputime  \\\n",
       "  132  20230321-UltimateAutomizerSvcomp2023/soft_floa...  TIMEOUT  302.958042   \n",
       "  \n",
       "         walltime      memory  \n",
       "  132  101.030521  411.246592  ,\n",
       "                                           benchmarkfile result    cputime  \\\n",
       "  132  20230321-UltimateAutomizerSvcomp2023/soft_floa...  false  10.445087   \n",
       "  \n",
       "       walltime      memory  \n",
       "  132  3.887812  259.219456  ),\n",
       " (                                         benchmarkfile   result     cputime  \\\n",
       "  133  20230321-UltimateAutomizerSvcomp2023/soft_floa...  TIMEOUT  302.964807   \n",
       "  \n",
       "         walltime     memory  \n",
       "  133  101.030456  408.61696  ,\n",
       "                                           benchmarkfile result    cputime  \\\n",
       "  133  20230321-UltimateAutomizerSvcomp2023/soft_floa...  false  15.605879   \n",
       "  \n",
       "       walltime      memory  \n",
       "  133  6.571419  325.165056  ),\n",
       " (                                         benchmarkfile   result     cputime  \\\n",
       "  135  20230321-UltimateAutomizerSvcomp2023/soft_floa...  TIMEOUT  302.970186   \n",
       "  \n",
       "        walltime      memory  \n",
       "  135  101.03499  458.657792  ,\n",
       "                                           benchmarkfile result    cputime  \\\n",
       "  135  20230321-UltimateAutomizerSvcomp2023/soft_floa...  false  19.283109   \n",
       "  \n",
       "       walltime     memory  \n",
       "  135  9.313531  330.01472  ),\n",
       " (                                         benchmarkfile   result     cputime  \\\n",
       "  136  20230321-UltimateAutomizerSvcomp2023/soft_floa...  TIMEOUT  302.966922   \n",
       "  \n",
       "         walltime    memory  \n",
       "  136  101.031847  458.6496  ,\n",
       "                                           benchmarkfile result    cputime  \\\n",
       "  136  20230321-UltimateAutomizerSvcomp2023/soft_floa...  false  18.194731   \n",
       "  \n",
       "       walltime      memory  \n",
       "  136  8.733194  329.887744  ),\n",
       " (                                         benchmarkfile   result     cputime  \\\n",
       "  137  20230321-UltimateAutomizerSvcomp2023/soft_floa...  TIMEOUT  302.960772   \n",
       "  \n",
       "         walltime      memory  \n",
       "  137  101.034893  462.020608  ,\n",
       "                                           benchmarkfile result    cputime  \\\n",
       "  137  20230321-UltimateAutomizerSvcomp2023/soft_floa...  false  16.461465   \n",
       "  \n",
       "       walltime      memory  \n",
       "  137  7.948394  329.969664  ),\n",
       " (                                        benchmarkfile   result     cputime  \\\n",
       "  62  2017-Preiner-keymaera/bouncing-ball-simple-nod...  TIMEOUT  302.880152   \n",
       "  \n",
       "        walltime       memory  \n",
       "  62  101.091229  1376.268288  ,\n",
       "                                          benchmarkfile result   cputime  \\\n",
       "  62  2017-Preiner-keymaera/bouncing-ball-simple-nod...  false  8.131795   \n",
       "  \n",
       "      walltime      memory  \n",
       "  62  3.508474  421.670912  ),\n",
       " (                                       benchmarkfile   result     cputime  \\\n",
       "  71  2017-Preiner-keymaera/dccs-example-node3897.smt2  TIMEOUT  303.021616   \n",
       "  \n",
       "        walltime       memory  \n",
       "  71  101.113663  1631.121408  ,\n",
       "                                         benchmarkfile result   cputime  \\\n",
       "  71  2017-Preiner-keymaera/dccs-example-node3897.smt2  false  1.577867   \n",
       "  \n",
       "      walltime      memory  \n",
       "  71  0.567072  178.487296  )]"
      ]
     },
     "execution_count": 17,
     "metadata": {},
     "output_type": "execute_result"
    }
   ],
   "source": [
    "removed_timeouts"
   ]
  },
  {
   "cell_type": "code",
   "execution_count": 18,
   "id": "ed9de84b",
   "metadata": {},
   "outputs": [],
   "source": [
    "def get_names(old_new_results : list):\n",
    "    f = open(\"new_timeouts.txt\", \"w\")\n",
    "    for (old, new) in old_new_results:\n",
    "        print(old)"
   ]
  },
  {
   "cell_type": "code",
   "execution_count": 19,
   "id": "c8e4d514",
   "metadata": {},
   "outputs": [],
   "source": [
    "get_names(new_timeouts)"
   ]
  },
  {
   "cell_type": "code",
   "execution_count": 20,
   "id": "85684ab8",
   "metadata": {},
   "outputs": [
    {
     "data": {
      "text/plain": [
       "1"
      ]
     },
     "execution_count": 20,
     "metadata": {},
     "output_type": "execute_result"
    }
   ],
   "source": [
    "len(new_errors)"
   ]
  },
  {
   "cell_type": "code",
   "execution_count": 21,
   "id": "685ee099",
   "metadata": {},
   "outputs": [
    {
     "data": {
      "text/plain": [
       "30"
      ]
     },
     "execution_count": 21,
     "metadata": {},
     "output_type": "execute_result"
    }
   ],
   "source": [
    "len(removed_timeouts)"
   ]
  },
  {
   "cell_type": "code",
   "execution_count": 22,
   "id": "ac0b56c6",
   "metadata": {},
   "outputs": [
    {
     "data": {
      "text/plain": [
       "0"
      ]
     },
     "execution_count": 22,
     "metadata": {},
     "output_type": "execute_result"
    }
   ],
   "source": [
    "len(new_timeouts)"
   ]
  },
  {
   "cell_type": "code",
   "execution_count": 23,
   "id": "593208c0",
   "metadata": {},
   "outputs": [
    {
     "data": {
      "text/plain": [
       "0"
      ]
     },
     "execution_count": 23,
     "metadata": {},
     "output_type": "execute_result"
    }
   ],
   "source": [
    "len(mistakes)"
   ]
  },
  {
   "cell_type": "code",
   "execution_count": 24,
   "id": "88f7d4ef",
   "metadata": {},
   "outputs": [
    {
     "data": {
      "text/plain": [
       "[]"
      ]
     },
     "execution_count": 24,
     "metadata": {},
     "output_type": "execute_result"
    }
   ],
   "source": [
    "mistakes"
   ]
  },
  {
   "cell_type": "markdown",
   "id": "57ea1bba",
   "metadata": {},
   "source": [
    "# Plot"
   ]
  },
  {
   "cell_type": "code",
   "execution_count": 25,
   "id": "66af862b",
   "metadata": {},
   "outputs": [
    {
     "data": {
      "text/plain": [
       "{'20230321-UltimateAutomizerSvcomp2023':                                          benchmarkfile   result     cputime  \\\n",
       " 0    20230321-UltimateAutomizerSvcomp2023/Primes.c_...    false    0.015816   \n",
       " 1    20230321-UltimateAutomizerSvcomp2023/Primes.c_...    false    0.067627   \n",
       " 2    20230321-UltimateAutomizerSvcomp2023/btor2c-ea...    false    0.863337   \n",
       " 3    20230321-UltimateAutomizerSvcomp2023/btor2c-ea...     true    0.421498   \n",
       " 4    20230321-UltimateAutomizerSvcomp2023/btor2c-ea...    false    0.423057   \n",
       " ..                                                 ...      ...         ...   \n",
       " 135  20230321-UltimateAutomizerSvcomp2023/soft_floa...  TIMEOUT  302.970186   \n",
       " 136  20230321-UltimateAutomizerSvcomp2023/soft_floa...  TIMEOUT  302.966922   \n",
       " 137  20230321-UltimateAutomizerSvcomp2023/soft_floa...  TIMEOUT  302.960772   \n",
       " 138  20230321-UltimateAutomizerSvcomp2023/sum.i_0.smt2    false    0.015528   \n",
       " 139  20230321-UltimateAutomizerSvcomp2023/sum.i_1.smt2    false    0.015499   \n",
       " \n",
       "        walltime      memory  \n",
       " 0      0.028666   18.894848  \n",
       " 1      0.066379   89.493504  \n",
       " 2      0.446014  191.152128  \n",
       " 3      0.237587  156.856320  \n",
       " 4      0.270120  161.382400  \n",
       " ..          ...         ...  \n",
       " 135  101.034990  458.657792  \n",
       " 136  101.031847  458.649600  \n",
       " 137  101.034893  462.020608  \n",
       " 138    0.015936   18.894848  \n",
       " 139    0.015889   18.894848  \n",
       " \n",
       " [140 rows x 5 columns],\n",
       " '2017-Preiner-keymaera':                                           benchmarkfile result   cputime  \\\n",
       " 0     2017-Preiner-keymaera/ETCS-d-braking-node1346....   true  0.108942   \n",
       " 1     2017-Preiner-keymaera/ETCS-d-braking-node2220....   true  0.118102   \n",
       " 2     2017-Preiner-keymaera/ETCS-essentials-live-ran...   true  0.239412   \n",
       " 3     2017-Preiner-keymaera/ETCS-essentials-live-ran...  false  0.017070   \n",
       " 4     2017-Preiner-keymaera/ETCS-essentials-live-ran...   true  0.286556   \n",
       " ...                                                 ...    ...       ...   \n",
       " 4030     2017-Preiner-keymaera/water_tank-node8198.smt2  false  0.097140   \n",
       " 4031     2017-Preiner-keymaera/water_tank-node8199.smt2  false  0.102559   \n",
       " 4032     2017-Preiner-keymaera/water_tank-node9350.smt2  false  0.092640   \n",
       " 4033     2017-Preiner-keymaera/water_tank-node9351.smt2  false  0.087722   \n",
       " 4034     2017-Preiner-keymaera/water_tank-node9381.smt2  false  0.016370   \n",
       " \n",
       "       walltime      memory  \n",
       " 0     0.068441  100.782080  \n",
       " 1     0.079509  100.917248  \n",
       " 2     0.114438  107.495424  \n",
       " 3     0.017503   19.156992  \n",
       " 4     0.129813  108.023808  \n",
       " ...        ...         ...  \n",
       " 4030  0.066138  100.167680  \n",
       " 4031  0.067307  100.421632  \n",
       " 4032  0.068887   98.586624  \n",
       " 4033  0.064499   98.476032  \n",
       " 4034  0.016773   19.156992  \n",
       " \n",
       " [4035 rows x 5 columns],\n",
       " '2018-Preiner-cav18':                                        benchmarkfile result   cputime  \\\n",
       " 0    2018-Preiner-cav18/check_bvsge_bvadd_32bit.smt2  false  0.015563   \n",
       " 1     2018-Preiner-cav18/check_bvsge_bvadd_4bit.smt2  false  0.016817   \n",
       " 2    2018-Preiner-cav18/check_bvsge_bvadd_64bit.smt2  false  0.015566   \n",
       " 3    2018-Preiner-cav18/check_bvsge_bvand_32bit.smt2  false  0.104945   \n",
       " 4     2018-Preiner-cav18/check_bvsge_bvand_4bit.smt2  false  0.069909   \n",
       " ..                                               ...    ...       ...   \n",
       " 595    2018-Preiner-cav18/check_ne_bvurem0_4bit.smt2  false  0.071948   \n",
       " 596   2018-Preiner-cav18/check_ne_bvurem0_64bit.smt2  false  0.327459   \n",
       " 597   2018-Preiner-cav18/check_ne_bvurem1_32bit.smt2  false  0.129133   \n",
       " 598    2018-Preiner-cav18/check_ne_bvurem1_4bit.smt2  false  0.070930   \n",
       " 599   2018-Preiner-cav18/check_ne_bvurem1_64bit.smt2  false  0.141953   \n",
       " \n",
       "      walltime      memory  \n",
       " 0    0.015931   19.161088  \n",
       " 1    0.018092   19.156992  \n",
       " 2    0.015937   19.156992  \n",
       " 3    0.065969   99.876864  \n",
       " 4    0.054734   89.686016  \n",
       " ..        ...         ...  \n",
       " 595  0.055437   90.324992  \n",
       " 596  0.142170  115.548160  \n",
       " 597  0.076088  102.604800  \n",
       " 598  0.055489   90.226688  \n",
       " 599  0.083997  103.137280  \n",
       " \n",
       " [600 rows x 5 columns],\n",
       " 'wintersteiger':                                          benchmarkfile result   cputime  \\\n",
       " 0    wintersteiger/fmsd13/fixpoint/fixpoint-AR-fixp...  false  0.017060   \n",
       " 1    wintersteiger/fmsd13/fixpoint/fixpoint-AR-fixp...  false  0.021386   \n",
       " 2    wintersteiger/fmsd13/fixpoint/fixpoint-AR-fixp...  false  0.016892   \n",
       " 3    wintersteiger/fmsd13/fixpoint/fixpoint-AR-fixp...  false  0.017067   \n",
       " 4    wintersteiger/fmsd13/fixpoint/fixpoint-AR-fixp...  false  0.017985   \n",
       " ..                                                 ...    ...       ...   \n",
       " 176  wintersteiger/fmsd13/ranking/ranking-network_n...   true  0.131836   \n",
       " 177  wintersteiger/fmsd13/ranking/ranking-network_n...   true  9.183418   \n",
       " 178  wintersteiger/fmsd13/ranking/ranking-network_n...   true  0.111017   \n",
       " 179  wintersteiger/fmsd13/ranking/ranking-network_t...  false  0.225708   \n",
       " 180  wintersteiger/fmsd13/ranking/ranking-network_u...  false  8.764648   \n",
       " \n",
       "      walltime      memory  \n",
       " 0    0.018522   19.681280  \n",
       " 1    0.021756   20.467712  \n",
       " 2    0.017267   19.681280  \n",
       " 3    0.017485   19.681280  \n",
       " 4    0.018354   19.943424  \n",
       " ..        ...         ...  \n",
       " 176  0.074613   99.962880  \n",
       " 177  3.121952  459.878400  \n",
       " 178  0.070339  105.017344  \n",
       " 179  0.104548  103.411712  \n",
       " 180  3.260572  480.346112  \n",
       " \n",
       " [181 rows x 5 columns],\n",
       " '2017-Preiner-psyco':                    benchmarkfile   result     cputime    walltime       memory\n",
       " 0    2017-Preiner-psyco/001.smt2     true    0.019836    0.021130    19.419136\n",
       " 1    2017-Preiner-psyco/002.smt2    false    0.132386    0.092284   104.165376\n",
       " 2    2017-Preiner-psyco/003.smt2     true    0.021051    0.021425    19.419136\n",
       " 3    2017-Preiner-psyco/004.smt2    false    0.163354    0.126453   106.184704\n",
       " 4    2017-Preiner-psyco/005.smt2     true    0.087832    0.070278    93.597696\n",
       " ..                           ...      ...         ...         ...          ...\n",
       " 189  2017-Preiner-psyco/190.smt2  TIMEOUT  300.757059  300.745078  1174.151168\n",
       " 190  2017-Preiner-psyco/193.smt2     true    3.340695    2.973954   158.453760\n",
       " 191  2017-Preiner-psyco/194.smt2  TIMEOUT  300.750844  300.752202  1153.744896\n",
       " 192  2017-Preiner-psyco/195.smt2  TIMEOUT  300.757164  300.758921  1277.009920\n",
       " 193  2017-Preiner-psyco/196.smt2  TIMEOUT  300.749694  300.753330  1159.176192\n",
       " \n",
       " [194 rows x 5 columns]}"
      ]
     },
     "execution_count": 25,
     "metadata": {},
     "output_type": "execute_result"
    }
   ],
   "source": [
    "csv = ml.get_csv(orig_dir)\n",
    "orig_df = ml.dict_to_df(ml.get_data(csv))\n",
    "orig_df"
   ]
  },
  {
   "cell_type": "code",
   "execution_count": 26,
   "id": "77695eea",
   "metadata": {},
   "outputs": [
    {
     "data": {
      "text/plain": [
       "0       18.894848\n",
       "1       90.308608\n",
       "2      158.449664\n",
       "3      156.053504\n",
       "4      159.473664\n",
       "          ...    \n",
       "135    330.014720\n",
       "136    329.887744\n",
       "137    329.969664\n",
       "138     19.132416\n",
       "139     18.894848\n",
       "Name: memory, Length: 140, dtype: float64"
      ]
     },
     "execution_count": 26,
     "metadata": {},
     "output_type": "execute_result"
    }
   ],
   "source": [
    "csv = ml.get_csv(current_dir[0])\n",
    "current_df = ml.dict_to_df(ml.get_data(csv))\n",
    "current_df[\"20230321-UltimateAutomizerSvcomp2023\"]['memory']"
   ]
  },
  {
   "cell_type": "code",
   "execution_count": 27,
   "id": "54f8399e",
   "metadata": {},
   "outputs": [
    {
     "data": {
      "text/plain": [
       "0       18.894848\n",
       "1       89.493504\n",
       "2      191.152128\n",
       "3      156.856320\n",
       "4      161.382400\n",
       "          ...    \n",
       "135    458.657792\n",
       "136    458.649600\n",
       "137    462.020608\n",
       "138     18.894848\n",
       "139     18.894848\n",
       "Name: memory, Length: 140, dtype: float64"
      ]
     },
     "execution_count": 27,
     "metadata": {},
     "output_type": "execute_result"
    }
   ],
   "source": [
    "orig_df[\"20230321-UltimateAutomizerSvcomp2023\"]['memory']"
   ]
  },
  {
   "cell_type": "code",
   "execution_count": 28,
   "id": "9d05721d",
   "metadata": {},
   "outputs": [
    {
     "data": {
      "text/plain": [
       "dict"
      ]
     },
     "execution_count": 28,
     "metadata": {},
     "output_type": "execute_result"
    }
   ],
   "source": [
    "type(current_df)"
   ]
  },
  {
   "cell_type": "code",
   "execution_count": 29,
   "id": "08eb0f15",
   "metadata": {},
   "outputs": [],
   "source": [
    "def show_plot(df_orig, df_current, benchmark_set, column):\n",
    "    # Data\n",
    "    x = df_orig[benchmark_set][column][:3]\n",
    "    y = df_current[benchmark_set][column][:3]\n",
    "    print(x)\n",
    "    print(y)\n",
    "    ref_line = [i for i in range(0, 1000)]  # Reference line (y=x)\n",
    "\n",
    "    # Scatter plot\n",
    "    plt.scatter(x, y, label='Data points')\n",
    "\n",
    "    \n",
    "    \n",
    "    \n",
    "    if column == \"cputime\":\n",
    "        ref_line = [i for i in range(0, 300)]  # Reference line (y=x)\n",
    "        # Add red vertical and horizontal lines at x=300 and y=300\n",
    "        plt.axvline(x=300,color='red', linestyle='--',linewidth=0.5)\n",
    "        plt.axhline(y=300, color='red', linestyle='--', linewidth=0.5)\n",
    "\n",
    "        # Change tick labels on x-axis and y-axis at point 300 to \"timelimit\"\n",
    "        plt.xticks([300], ['timelimit'])\n",
    "        plt.yticks([300], ['timelimit'])\n",
    "        \n",
    "    # Reference line\n",
    "    plt.plot(ref_line, ref_line, label='Reference line', color='red', linestyle='--')\n",
    "    \n",
    "    plt.xlabel('original')\n",
    "    plt.ylabel('cached (no multiplication)')\n",
    "    plt.title('Scatter Plot with Reference Line')\n",
    "    \n",
    "    \n",
    "    # Set scale to logarithmic\n",
    "    plt.xscale('log')\n",
    "    plt.yscale('log')\n",
    "\n",
    "    plt.grid(True)\n",
    "    plt.show()"
   ]
  },
  {
   "cell_type": "code",
   "execution_count": 30,
   "id": "b5244f90",
   "metadata": {},
   "outputs": [
    {
     "name": "stdout",
     "output_type": "stream",
     "text": [
      "0    0.015816\n",
      "1    0.067627\n",
      "2    0.863337\n",
      "Name: cputime, dtype: float64\n",
      "0    0.028386\n",
      "1    0.066586\n",
      "2    0.976900\n",
      "Name: cputime, dtype: float64\n"
     ]
    },
    {
     "data": {
      "image/png": "[encoded data removed]",
      "text/plain": [
       "<Figure size 432x288 with 1 Axes>"
      ]
     },
     "metadata": {
      "needs_background": "light"
     },
     "output_type": "display_data"
    }
   ],
   "source": [
    "show_plot(orig_df,current_df,\"20230321-UltimateAutomizerSvcomp2023\", \"cputime\" )"
   ]
  },
  {
   "cell_type": "code",
   "execution_count": 31,
   "id": "db3d8bc8",
   "metadata": {},
   "outputs": [
    {
     "name": "stdout",
     "output_type": "stream",
     "text": [
      "0     18.894848\n",
      "1     89.493504\n",
      "2    191.152128\n",
      "Name: memory, dtype: float64\n",
      "0     18.894848\n",
      "1     90.308608\n",
      "2    158.449664\n",
      "Name: memory, dtype: float64\n"
     ]
    },
    {
     "data": {
      "image/png": "[encoded data removed]",
      "text/plain": [
       "<Figure size 432x288 with 1 Axes>"
      ]
     },
     "metadata": {
      "needs_background": "light"
     },
     "output_type": "display_data"
    }
   ],
   "source": [
    "show_plot(orig_df,current_df,\"20230321-UltimateAutomizerSvcomp2023\", \"memory\" )"
   ]
  },
  {
   "cell_type": "markdown",
   "id": "b6403e0d",
   "metadata": {},
   "source": [
    "# Time plots "
   ]
  },
  {
   "cell_type": "code",
   "execution_count": 32,
   "id": "0a94ea2e",
   "metadata": {},
   "outputs": [
    {
     "data": {
      "image/png": "[encoded data removed]",
      "text/plain": [
       "<Figure size 432x288 with 1 Axes>"
      ]
     },
     "metadata": {
      "needs_background": "light"
     },
     "output_type": "display_data"
    }
   ],
   "source": [
    "ml.show_plot(orig_df,current_df,\"20230321-UltimateAutomizerSvcomp2023\", \"cputime\" )"
   ]
  },
  {
   "cell_type": "code",
   "execution_count": 33,
   "id": "2156bd15",
   "metadata": {},
   "outputs": [
    {
     "data": {
      "image/png": "[encoded data removed]",
      "text/plain": [
       "<Figure size 432x288 with 1 Axes>"
      ]
     },
     "metadata": {
      "needs_background": "light"
     },
     "output_type": "display_data"
    }
   ],
   "source": [
    "ml.show_plot(orig_df,current_df,\"2017-Preiner-keymaera\", \"cputime\" )"
   ]
  },
  {
   "cell_type": "code",
   "execution_count": 34,
   "id": "cc86702c",
   "metadata": {},
   "outputs": [
    {
     "data": {
      "image/png": "[encoded data removed]",
      "text/plain": [
       "<Figure size 432x288 with 1 Axes>"
      ]
     },
     "metadata": {
      "needs_background": "light"
     },
     "output_type": "display_data"
    }
   ],
   "source": [
    "ml.show_plot(orig_df,current_df,\"2017-Preiner-psyco\", \"cputime\" )"
   ]
  },
  {
   "cell_type": "code",
   "execution_count": 35,
   "id": "db4c8b99",
   "metadata": {},
   "outputs": [
    {
     "data": {
      "image/png": "[encoded data removed]",
      "text/plain": [
       "<Figure size 432x288 with 1 Axes>"
      ]
     },
     "metadata": {
      "needs_background": "light"
     },
     "output_type": "display_data"
    }
   ],
   "source": [
    "ml.show_plot(orig_df,current_df,\"2018-Preiner-cav18\", \"cputime\" )"
   ]
  },
  {
   "cell_type": "markdown",
   "id": "6c6739b2",
   "metadata": {},
   "source": [
    "# Memory plots "
   ]
  },
  {
   "cell_type": "code",
   "execution_count": 36,
   "id": "88a06bf0",
   "metadata": {},
   "outputs": [
    {
     "data": {
      "image/png": "[encoded data removed]",
      "text/plain": [
       "<Figure size 432x288 with 1 Axes>"
      ]
     },
     "metadata": {
      "needs_background": "light"
     },
     "output_type": "display_data"
    }
   ],
   "source": [
    "ml.show_plot(orig_df,current_df,\"20230321-UltimateAutomizerSvcomp2023\", \"memory\" )"
   ]
  },
  {
   "cell_type": "code",
   "execution_count": 37,
   "id": "7d496ab8",
   "metadata": {},
   "outputs": [
    {
     "data": {
      "image/png": "[encoded data removed]",
      "text/plain": [
       "<Figure size 432x288 with 1 Axes>"
      ]
     },
     "metadata": {
      "needs_background": "light"
     },
     "output_type": "display_data"
    }
   ],
   "source": [
    "ml.show_plot(orig_df,current_df,\"2017-Preiner-keymaera\", \"memory\" )"
   ]
  },
  {
   "cell_type": "code",
   "execution_count": 38,
   "id": "4109541f",
   "metadata": {},
   "outputs": [
    {
     "data": {
      "image/png": "[encoded data removed]",
      "text/plain": [
       "<Figure size 432x288 with 1 Axes>"
      ]
     },
     "metadata": {
      "needs_background": "light"
     },
     "output_type": "display_data"
    }
   ],
   "source": [
    "ml.show_plot(orig_df,current_df,\"2017-Preiner-psyco\", \"memory\" )"
   ]
  },
  {
   "cell_type": "code",
   "execution_count": 39,
   "id": "73aa8398",
   "metadata": {},
   "outputs": [
    {
     "data": {
      "image/png": "[encoded data removed]",
      "text/plain": [
       "<Figure size 432x288 with 1 Axes>"
      ]
     },
     "metadata": {
      "needs_background": "light"
     },
     "output_type": "display_data"
    }
   ],
   "source": [
    "ml.show_plot(orig_df,current_df,\"2018-Preiner-cav18\", \"memory\" )"
   ]
  },
  {
   "cell_type": "code",
   "execution_count": null,
   "id": "c37f04ba",
   "metadata": {},
   "outputs": [],
   "source": []
  },
  {
   "cell_type": "code",
   "execution_count": null,
   "id": "dbcd242f",
   "metadata": {},
   "outputs": [],
   "source": []
  },
  {
   "cell_type": "code",
   "execution_count": null,
   "id": "d8fd81e9",
   "metadata": {},
   "outputs": [],
   "source": []
  },
  {
   "cell_type": "code",
   "execution_count": null,
   "id": "70705032",
   "metadata": {},
   "outputs": [],
   "source": []
  },
  {
   "cell_type": "code",
   "execution_count": null,
   "id": "8614a431",
   "metadata": {},
   "outputs": [],
   "source": []
  }
 ],
 "metadata": {
  "kernelspec": {
   "display_name": "Python 3 (ipykernel)",
   "language": "python",
   "name": "python3"
  },
  "language_info": {
   "codemirror_mode": {
    "name": "ipython",
    "version": 3
   },
   "file_extension": ".py",
   "mimetype": "text/x-python",
   "name": "python",
   "nbconvert_exporter": "python",
   "pygments_lexer": "ipython3",
   "version": "3.10.12"
  }
 },
 "nbformat": 4,
 "nbformat_minor": 5
}
